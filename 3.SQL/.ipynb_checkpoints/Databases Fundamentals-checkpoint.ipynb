{
 "cells": [
  {
   "cell_type": "markdown",
   "id": "139ab4a9",
   "metadata": {},
   "source": [
    "## A Databases is  a shared collection of logically related data and description  of these data, designed to meet the information needs of an organization.\n",
    "\n",
    "Data storage: It is uesd to stored large amounts of structed data, making it easily accesiable, searchable, and retrievable.\n",
    "\n",
    "Data Analysis: A Database can be ued to performed complex data analysis, generate reports, and provide insights into the data.\n",
    "\n",
    "Record Keeping: A Database is often used to keep track of important records, such as financial transections, customer information, and inventory level.\n",
    "\n",
    "Web Application: Databases are an essential compenent of many web application, providing dynamic content and user management."
   ]
  },
  {
   "cell_type": "markdown",
   "id": "9c55c49d",
   "metadata": {},
   "source": [
    "# Operation in Databases\n",
    "<img src=\"https://www.bccfalna.com/ebooks/wp-content/uploads/ebooks/2015/10/CRUD-Operations-Updating-Underlying-Database-Hindi.png\">"
   ]
  },
  {
   "cell_type": "markdown",
   "id": "f29cfc2e",
   "metadata": {},
   "source": [
    "## Properties of an Ideal Database\n",
    "1. Integrity: ( accuracy and consistancy)\n",
    "2. Availability (zero down-time)\n",
    "3. Security \n",
    "4. Indepented of application\n",
    "5. Concurrency"
   ]
  },
  {
   "cell_type": "markdown",
   "id": "409111af",
   "metadata": {},
   "source": [
    "# Types of Databases\n",
    "\n",
    "1. Relational Databases:\n",
    "    Also Known as SQL Databases, these databases use a relational model to organize data into tables with rows and columns.\n",
    "   \n",
    "2. NoSQL Databases:\n",
    "   These Databases are designed to handle large amounts of unstructed amd semi-structured data, such as documents, image. or video. (MonhoDB)\n",
    "\n",
    "3. Columns DataBases:\n",
    "   The databases stored data in columns rather than rows, making them well-suited for data warehousing and analytics application. (Amazon Redshift, googleBig Query)\n",
    "\n",
    "4. Graph Databases:\n",
    "   These databases are used to store and query graph-structed data,such as social Networking connection ot recommendation systems.(Neo4j, Amazon Neptune)\n",
    " \n",
    "5. key-value databases:\n",
    "   These Databases stored data as collection of keys and values, making them well suited for chaching and simple data storage needs(Redis and amazon DyamoDB)"
   ]
  },
  {
   "cell_type": "markdown",
   "id": "a15817b3",
   "metadata": {},
   "source": [
    "<img src=\"https://www.interviewbit.com/blog/wp-content/uploads/2022/04/Different-types-of-Databases-768x392.png\">"
   ]
  },
  {
   "cell_type": "code",
   "execution_count": null,
   "id": "770aa489",
   "metadata": {},
   "outputs": [],
   "source": []
  },
  {
   "cell_type": "code",
   "execution_count": null,
   "id": "f0af1d8a",
   "metadata": {},
   "outputs": [],
   "source": []
  }
 ],
 "metadata": {
  "kernelspec": {
   "display_name": "Python 3 (ipykernel)",
   "language": "python",
   "name": "python3"
  },
  "language_info": {
   "codemirror_mode": {
    "name": "ipython",
    "version": 3
   },
   "file_extension": ".py",
   "mimetype": "text/x-python",
   "name": "python",
   "nbconvert_exporter": "python",
   "pygments_lexer": "ipython3",
   "version": "3.10.9"
  }
 },
 "nbformat": 4,
 "nbformat_minor": 5
}
