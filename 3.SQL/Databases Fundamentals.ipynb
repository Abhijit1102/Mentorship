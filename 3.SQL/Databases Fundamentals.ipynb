{
 "cells": [
  {
   "cell_type": "markdown",
   "id": "db939be1",
   "metadata": {},
   "source": [
    "## A Databases is  a shared collection of logically related data and description  of these data, designed to meet the information needs of an organization.\n",
    "\n",
    "Data storage: It is uesd to stored large amounts of structed data, making it easily accesiable, searchable, and retrievable.\n",
    "\n",
    "Data Analysis: A Database can be ued to performed complex data analysis, generate reports, and provide insights into the data.\n",
    "\n",
    "Record Keeping: A Database is often used to keep track of important records, such as financial transections, customer information, and inventory level.\n",
    "\n",
    "Web Application: Databases are an essential compenent of many web application, providing dynamic content and user management."
   ]
  },
  {
   "cell_type": "markdown",
   "id": "5109d718",
   "metadata": {},
   "source": [
    "# Operation in Databases\n",
    "<img src=\"https://www.bccfalna.com/ebooks/wp-content/uploads/ebooks/2015/10/CRUD-Operations-Updating-Underlying-Database-Hindi.png\">"
   ]
  },
  {
   "cell_type": "markdown",
   "id": "f1cfa7ac",
   "metadata": {},
   "source": [
    "## Properties of an Ideal Database\n",
    "1. Integrity: ( accuracy and consistancy)\n",
    "2. Availability (zero down-time)\n",
    "3. Security \n",
    "4. Indepented of application\n",
    "5. Concurrency"
   ]
  },
  {
   "cell_type": "markdown",
   "id": "f83af4a4",
   "metadata": {},
   "source": [
    "# Types of Databases\n",
    "\n",
    "1. Relational Databases:\n",
    "    Also Known as SQL Databases, these databases use a relational model to organize data into tables with rows and columns.\n",
    "   \n",
    "2. NoSQL Databases:\n",
    "   These Databases are designed to handle large amounts of unstructed amd semi-structured data, such as documents, image. or video. (MonhoDB)\n",
    "\n",
    "3. Columns DataBases:\n",
    "   The databases stored data in columns rather than rows, making them well-suited for data warehousing and analytics application. (Amazon Redshift, googleBig Query)\n",
    "\n",
    "4. Graph Databases:\n",
    "   These databases are used to store and query graph-structed data,such as social Networking connection ot recommendation systems.(Neo4j, Amazon Neptune)\n",
    " \n",
    "5. key-value databases:\n",
    "   These Databases stored data as collection of keys and values, making them well suited for chaching and simple data storage needs(Redis and amazon DyamoDB)"
   ]
  },
  {
   "cell_type": "markdown",
   "id": "3119c812",
   "metadata": {},
   "source": [
    "<img src=\"https://www.interviewbit.com/blog/wp-content/uploads/2022/04/Different-types-of-Databases-768x392.png\">\n",
    "\n",
    "\"https://dataschool.com/data-modeling-101/row-vs-column-oriented-databases/\"\n",
    "\n",
    "\"https://www.crio.do/blog/what-is-redis/\""
   ]
  },
  {
   "cell_type": "markdown",
   "id": "b74f42f0",
   "metadata": {},
   "source": [
    "# Relational DataBases\n",
    "- Aslo known as SQl databases, these databases use a relational model to organize data into with rows and columns.\n",
    "\n",
    "<img src=\"https://static.javatpoint.com/dbms/images/what-is-rdbms.png\">\n",
    "\n",
    "- Missing value is Null\n",
    "- Domain"
   ]
  },
  {
   "cell_type": "markdown",
   "id": "aaad0981",
   "metadata": {},
   "source": [
    "# Database Management System (DBMS)\n",
    "\n",
    "-  A Database mangement system (DBMS) is a software system that provides the interfaces and tools needed to store, organize, and manage data in database. A DBMS acts as intermediary between the databases and the application or users that access the data stored in the databases.\n",
    "\n",
    "<img src=\"https://i0.wp.com/theintactone.com/wp-content/uploads/2019/02/2-structure-of-dbms.png?resize=558%2C398&ssl=1\">\n",
    "\n",
    "\n",
    "## Functions of DBMS\n",
    "- Data Management: store, retrive amd modify data.\n",
    "- Intergrity : Maintain accuracy of data.\n",
    "- Concurency : Simultaneous data access for multiple user.\n",
    "- Transaction : Modification to database mudt either be successful or must not happen at all.\n",
    "- Security : Access to authorized users only.\n",
    "- utilities : Data import/export, user management, backup, logging."
   ]
  },
  {
   "cell_type": "code",
   "execution_count": null,
   "id": "0e8247bd",
   "metadata": {},
   "outputs": [],
   "source": []
  },
  {
   "cell_type": "code",
   "execution_count": null,
   "id": "78561317",
   "metadata": {},
   "outputs": [],
   "source": []
  },
  {
   "cell_type": "code",
   "execution_count": null,
   "id": "b9d90014",
   "metadata": {},
   "outputs": [],
   "source": []
  },
  {
   "cell_type": "code",
   "execution_count": null,
   "id": "a30a1690",
   "metadata": {},
   "outputs": [],
   "source": []
  }
 ],
 "metadata": {
  "kernelspec": {
   "display_name": "Python 3 (ipykernel)",
   "language": "python",
   "name": "python3"
  },
  "language_info": {
   "codemirror_mode": {
    "name": "ipython",
    "version": 3
   },
   "file_extension": ".py",
   "mimetype": "text/x-python",
   "name": "python",
   "nbconvert_exporter": "python",
   "pygments_lexer": "ipython3",
   "version": "3.10.9"
  }
 },
 "nbformat": 4,
 "nbformat_minor": 5
}
