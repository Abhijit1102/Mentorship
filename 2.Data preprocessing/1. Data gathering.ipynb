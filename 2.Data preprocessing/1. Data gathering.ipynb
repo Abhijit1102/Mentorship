{
 "cells": [
  {
   "cell_type": "markdown",
   "id": "162e0ff0",
   "metadata": {},
   "source": [
    "## importing different data and export\n",
    "\n",
    "### Data Gathering\n",
    "#### Import\n",
    "- Database\n",
    "- csv\n",
    "- excel\n",
    "- text\n",
    "- json\n",
    "\n",
    "### Export\n",
    "- csv\n",
    "- json\n",
    "- excel\n",
    "- Database\n",
    "- html\n",
    "- Api\n",
    "- web scrapping\n"
   ]
  },
  {
   "cell_type": "code",
   "execution_count": null,
   "id": "2ecd8346-8210-4bb9-8f95-8288671c5950",
   "metadata": {},
   "outputs": [],
   "source": []
  },
  {
   "cell_type": "code",
   "execution_count": null,
   "id": "1f498b5f-fade-4370-be7f-53e4a09934a9",
   "metadata": {},
   "outputs": [],
   "source": []
  },
  {
   "cell_type": "code",
   "execution_count": null,
   "id": "d29012c6-dbe4-4688-8d3c-a9bc0ef89114",
   "metadata": {},
   "outputs": [],
   "source": []
  },
  {
   "cell_type": "code",
   "execution_count": null,
   "id": "7d2db047-e014-4cac-b4c3-fd83836c7682",
   "metadata": {},
   "outputs": [],
   "source": []
  },
  {
   "cell_type": "code",
   "execution_count": null,
   "id": "b2eec627-b9a2-474e-8fe5-a5a3a242c1b0",
   "metadata": {},
   "outputs": [],
   "source": []
  },
  {
   "cell_type": "code",
   "execution_count": null,
   "id": "b8ed9405-d5a6-41dc-9ab8-6f149885dba3",
   "metadata": {},
   "outputs": [],
   "source": []
  },
  {
   "cell_type": "code",
   "execution_count": null,
   "id": "421da608-8845-4e3a-bac8-f5898ee11a8a",
   "metadata": {},
   "outputs": [],
   "source": []
  },
  {
   "cell_type": "code",
   "execution_count": null,
   "id": "c13fd82e-1973-476a-a29e-2963336fd56f",
   "metadata": {},
   "outputs": [],
   "source": []
  },
  {
   "cell_type": "code",
   "execution_count": null,
   "id": "6da03b56-bf23-451e-afcc-fca9f5ac4ef6",
   "metadata": {},
   "outputs": [],
   "source": []
  },
  {
   "cell_type": "code",
   "execution_count": null,
   "id": "03331159-54e4-4244-bc06-af42924a042f",
   "metadata": {},
   "outputs": [],
   "source": []
  },
  {
   "cell_type": "code",
   "execution_count": null,
   "id": "697be1da-e0a9-4f42-a996-082471da225c",
   "metadata": {},
   "outputs": [],
   "source": []
  },
  {
   "cell_type": "code",
   "execution_count": null,
   "id": "4fd903d4-e7da-497a-8228-9d62c0455d0a",
   "metadata": {},
   "outputs": [],
   "source": []
  },
  {
   "cell_type": "code",
   "execution_count": null,
   "id": "4d194973-f998-4ca0-8fab-4ac0ff6bdb90",
   "metadata": {},
   "outputs": [],
   "source": []
  },
  {
   "cell_type": "code",
   "execution_count": null,
   "id": "dd315b66-b4cb-468f-bcff-f5b17fae43ca",
   "metadata": {},
   "outputs": [],
   "source": []
  },
  {
   "cell_type": "code",
   "execution_count": null,
   "id": "8f145db1-0722-4108-9fc6-a6446039fe87",
   "metadata": {},
   "outputs": [],
   "source": []
  },
  {
   "cell_type": "code",
   "execution_count": null,
   "id": "5b1a7854-f832-400c-970e-0dc2e059af7d",
   "metadata": {},
   "outputs": [],
   "source": []
  },
  {
   "cell_type": "code",
   "execution_count": null,
   "id": "23e1d390-be3d-4d0e-81da-463c4cb25868",
   "metadata": {},
   "outputs": [],
   "source": []
  },
  {
   "cell_type": "code",
   "execution_count": null,
   "id": "1abcb583-8968-4170-b9a3-1fb4ffd7f6b5",
   "metadata": {},
   "outputs": [],
   "source": []
  },
  {
   "cell_type": "code",
   "execution_count": null,
   "id": "c8235e65-569e-4115-9c2d-b78c88639e40",
   "metadata": {},
   "outputs": [],
   "source": []
  },
  {
   "cell_type": "code",
   "execution_count": null,
   "id": "bf397262-77dc-490c-a5b9-6f65a1e14b06",
   "metadata": {},
   "outputs": [],
   "source": []
  },
  {
   "cell_type": "code",
   "execution_count": null,
   "id": "2b725c57-5926-4109-8957-0ceebf2885d1",
   "metadata": {},
   "outputs": [],
   "source": []
  }
 ],
 "metadata": {
  "kernelspec": {
   "display_name": "Python 3 (ipykernel)",
   "language": "python",
   "name": "python3"
  },
  "language_info": {
   "codemirror_mode": {
    "name": "ipython",
    "version": 3
   },
   "file_extension": ".py",
   "mimetype": "text/x-python",
   "name": "python",
   "nbconvert_exporter": "python",
   "pygments_lexer": "ipython3",
   "version": "3.10.9"
  }
 },
 "nbformat": 4,
 "nbformat_minor": 5
}
