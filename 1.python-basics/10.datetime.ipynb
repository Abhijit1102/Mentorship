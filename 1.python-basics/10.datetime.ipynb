{
 "cells": [
  {
   "cell_type": "code",
   "execution_count": 1,
   "id": "a6eff17e",
   "metadata": {},
   "outputs": [],
   "source": [
    "import numpy as np\n",
    "import pandas as pd"
   ]
  },
  {
   "cell_type": "markdown",
   "id": "ce565c79",
   "metadata": {},
   "source": [
    "## Timestamp object\n",
    "- Time stamps reference particular in time e.g. Oct 24th,2022 at 7:00pm"
   ]
  },
  {
   "cell_type": "code",
   "execution_count": 4,
   "id": "02cff2a7",
   "metadata": {},
   "outputs": [
    {
     "data": {
      "text/plain": [
       "Timestamp('2023-01-05 00:00:00')"
      ]
     },
     "execution_count": 4,
     "metadata": {},
     "output_type": "execute_result"
    }
   ],
   "source": [
    "# creating a timestamp\n",
    "t =pd.Timestamp(\"2023/1/5\")\n",
    "t"
   ]
  },
  {
   "cell_type": "code",
   "execution_count": 5,
   "id": "3f5057f2",
   "metadata": {},
   "outputs": [
    {
     "data": {
      "text/plain": [
       "pandas._libs.tslibs.timestamps.Timestamp"
      ]
     },
     "execution_count": 5,
     "metadata": {},
     "output_type": "execute_result"
    }
   ],
   "source": [
    "type(t)"
   ]
  },
  {
   "cell_type": "code",
   "execution_count": 7,
   "id": "cbc3a13c",
   "metadata": {},
   "outputs": [
    {
     "name": "stdout",
     "output_type": "stream",
     "text": [
      "2023-01-05 00:00:00\n",
      "2023-01-05 00:00:00\n"
     ]
    }
   ],
   "source": [
    "# variation\n",
    "print(pd.Timestamp(\"2023-1-5\"))\n",
    "print(pd.Timestamp(\"2023, 1, 5\"))"
   ]
  },
  {
   "cell_type": "code",
   "execution_count": 8,
   "id": "e8bcd2b7",
   "metadata": {},
   "outputs": [
    {
     "data": {
      "text/plain": [
       "Timestamp('2023-01-01 00:00:00')"
      ]
     },
     "execution_count": 8,
     "metadata": {},
     "output_type": "execute_result"
    }
   ],
   "source": [
    "# only year\n",
    "pd.Timestamp('2023')"
   ]
  },
  {
   "cell_type": "code",
   "execution_count": 9,
   "id": "04d9b438",
   "metadata": {},
   "outputs": [
    {
     "data": {
      "text/plain": [
       "Timestamp('2023-01-05 00:00:00')"
      ]
     },
     "execution_count": 9,
     "metadata": {},
     "output_type": "execute_result"
    }
   ],
   "source": [
    "# text\n",
    "pd.Timestamp(\"5th january 2023\")"
   ]
  },
  {
   "cell_type": "code",
   "execution_count": 10,
   "id": "015226f2",
   "metadata": {},
   "outputs": [
    {
     "data": {
      "text/plain": [
       "Timestamp('2023-01-05 21:21:00')"
      ]
     },
     "execution_count": 10,
     "metadata": {},
     "output_type": "execute_result"
    }
   ],
   "source": [
    "# time\n",
    "pd.Timestamp(\"5th january 2023 9:21PM\")"
   ]
  },
  {
   "cell_type": "code",
   "execution_count": null,
   "id": "49756c4e",
   "metadata": {},
   "outputs": [],
   "source": [
    "pd.Timestamp(\"2023/1/5\")"
   ]
  },
  {
   "cell_type": "code",
   "execution_count": null,
   "id": "ec04af17",
   "metadata": {},
   "outputs": [],
   "source": [
    "# AM And PM"
   ]
  },
  {
   "cell_type": "code",
   "execution_count": 12,
   "id": "37c1bd0b",
   "metadata": {},
   "outputs": [
    {
     "data": {
      "text/plain": [
       "Timestamp('2023-01-05 09:21:56')"
      ]
     },
     "execution_count": 12,
     "metadata": {},
     "output_type": "execute_result"
    }
   ],
   "source": [
    "# using datetime.datetime object\n",
    "import datetime as dt\n",
    "\n",
    "x=pd.Timestamp(dt.datetime(2023,1,5,9,21,56))\n",
    "x"
   ]
  },
  {
   "cell_type": "code",
   "execution_count": 14,
   "id": "e71f8f81",
   "metadata": {},
   "outputs": [
    {
     "data": {
      "text/plain": [
       "2023"
      ]
     },
     "execution_count": 14,
     "metadata": {},
     "output_type": "execute_result"
    }
   ],
   "source": [
    "x.year"
   ]
  },
  {
   "cell_type": "code",
   "execution_count": 18,
   "id": "897fcaeb",
   "metadata": {},
   "outputs": [
    {
     "data": {
      "text/plain": [
       "<function Timestamp.month_name>"
      ]
     },
     "execution_count": 18,
     "metadata": {},
     "output_type": "execute_result"
    }
   ],
   "source": [
    "x.month_name"
   ]
  },
  {
   "cell_type": "code",
   "execution_count": 15,
   "id": "bf170830",
   "metadata": {},
   "outputs": [
    {
     "data": {
      "text/plain": [
       "21"
      ]
     },
     "execution_count": 15,
     "metadata": {},
     "output_type": "execute_result"
    }
   ],
   "source": [
    "x.minute"
   ]
  },
  {
   "cell_type": "markdown",
   "id": "7275231e",
   "metadata": {},
   "source": [
    "# why separate objects to handle data and time when python already has datetime functionality?\n",
    "- syntax wise datetime is very convenient\n",
    "- But the performance takes a hit while working with huge data. List vs Numpy Array\n",
    "- The weaknesses of Python's datetime format inspired the NumPy team to add a set of native time series data type to NumPy.\n",
    "- The datetime64 dtype encodes dates as 64-bit integers, and thus allows arrays of dates to be represented very compactly."
   ]
  },
  {
   "cell_type": "code",
   "execution_count": 19,
   "id": "ad01dbae",
   "metadata": {},
   "outputs": [
    {
     "data": {
      "text/plain": [
       "array('2015-07-04', dtype='datetime64[D]')"
      ]
     },
     "execution_count": 19,
     "metadata": {},
     "output_type": "execute_result"
    }
   ],
   "source": [
    "import numpy as np\n",
    "date = np.array('2015-07-04', dtype=np.datetime64)\n",
    "date"
   ]
  },
  {
   "cell_type": "code",
   "execution_count": 20,
   "id": "b7e4153d",
   "metadata": {},
   "outputs": [
    {
     "data": {
      "text/plain": [
       "array(['2015-07-04', '2015-07-05', '2015-07-06', '2015-07-07',\n",
       "       '2015-07-08', '2015-07-09', '2015-07-10', '2015-07-11',\n",
       "       '2015-07-12', '2015-07-13', '2015-07-14', '2015-07-15'],\n",
       "      dtype='datetime64[D]')"
      ]
     },
     "execution_count": 20,
     "metadata": {},
     "output_type": "execute_result"
    }
   ],
   "source": [
    "date + np.arange(12)"
   ]
  },
  {
   "cell_type": "markdown",
   "id": "2b7c041e",
   "metadata": {},
   "source": [
    "- Because of the uniform type in NumPy datetime64 arrays, this type of operation can be accomplished much more quickly than if we were working directly with Python's datetime objects, especially as arrays get large\n",
    "\n",
    "- Pandas Timestamp object combines the ease-of-use of python datetime with the efficient storage and vectorized interface of numpy.datetime64\n",
    "\n",
    "- From a group of these Timestamp objects, Pandas can construct a DatetimeIndex that can be used to index data in a Series or DataFrame"
   ]
  },
  {
   "cell_type": "markdown",
   "id": "4d1367e2",
   "metadata": {},
   "source": [
    "## DatetimeIndex Object\n",
    "- A collection of pandas timestamp"
   ]
  },
  {
   "cell_type": "code",
   "execution_count": 22,
   "id": "dd121fee",
   "metadata": {},
   "outputs": [
    {
     "data": {
      "text/plain": [
       "pandas.core.indexes.datetimes.DatetimeIndex"
      ]
     },
     "execution_count": 22,
     "metadata": {},
     "output_type": "execute_result"
    }
   ],
   "source": [
    "# from strings\n",
    "type(pd.DatetimeIndex(['2023/1/1','2022/1/1','2021/1/1']))"
   ]
  },
  {
   "cell_type": "code",
   "execution_count": 23,
   "id": "25a1053a",
   "metadata": {},
   "outputs": [
    {
     "data": {
      "text/plain": [
       "DatetimeIndex(['2023-01-01', '2022-01-01', '2021-01-01'], dtype='datetime64[ns]', freq=None)"
      ]
     },
     "execution_count": 23,
     "metadata": {},
     "output_type": "execute_result"
    }
   ],
   "source": [
    "# using python datetime object\n",
    "pd.DatetimeIndex([dt.datetime(2023,1,1),dt.datetime(2022,1,1),dt.datetime(2021,1,1)])"
   ]
  },
  {
   "cell_type": "code",
   "execution_count": 24,
   "id": "f917f7f4",
   "metadata": {},
   "outputs": [],
   "source": [
    "# using pd.timestamps\n",
    "dt_index = pd.DatetimeIndex([pd.Timestamp(2023,1,1),pd.Timestamp(2022,1,1),pd.Timestamp(2021,1,1)])"
   ]
  },
  {
   "cell_type": "code",
   "execution_count": 25,
   "id": "b679080c",
   "metadata": {},
   "outputs": [
    {
     "data": {
      "text/plain": [
       "2023-01-01    1\n",
       "2022-01-01    2\n",
       "2021-01-01    3\n",
       "dtype: int64"
      ]
     },
     "execution_count": 25,
     "metadata": {},
     "output_type": "execute_result"
    }
   ],
   "source": [
    "# using datatimeindex as series index\n",
    "\n",
    "pd.Series([1,2,3],index=dt_index)"
   ]
  },
  {
   "cell_type": "markdown",
   "id": "52c21d61",
   "metadata": {},
   "source": [
    "## date_range function"
   ]
  },
  {
   "cell_type": "code",
   "execution_count": 26,
   "id": "185bbdb2",
   "metadata": {},
   "outputs": [
    {
     "data": {
      "text/plain": [
       "DatetimeIndex(['2023-01-05', '2023-01-08', '2023-01-11', '2023-01-14',\n",
       "               '2023-01-17', '2023-01-20', '2023-01-23', '2023-01-26',\n",
       "               '2023-01-29', '2023-02-01', '2023-02-04', '2023-02-07',\n",
       "               '2023-02-10', '2023-02-13', '2023-02-16', '2023-02-19',\n",
       "               '2023-02-22', '2023-02-25', '2023-02-28'],\n",
       "              dtype='datetime64[ns]', freq='3D')"
      ]
     },
     "execution_count": 26,
     "metadata": {},
     "output_type": "execute_result"
    }
   ],
   "source": [
    "# generate daily dates in a given range\n",
    "pd.date_range(start='2023/1/5',end='2023/2/28',freq='3D')"
   ]
  },
  {
   "cell_type": "code",
   "execution_count": 3,
   "id": "bdf6f6b1",
   "metadata": {},
   "outputs": [
    {
     "data": {
      "text/plain": [
       "DatetimeIndex(['2023-01-05', '2023-01-06', '2023-01-09', '2023-01-10',\n",
       "               '2023-01-11', '2023-01-12', '2023-01-13', '2023-01-16',\n",
       "               '2023-01-17', '2023-01-18', '2023-01-19', '2023-01-20',\n",
       "               '2023-01-23', '2023-01-24', '2023-01-25', '2023-01-26',\n",
       "               '2023-01-27'],\n",
       "              dtype='datetime64[ns]', freq='B')"
      ]
     },
     "execution_count": 3,
     "metadata": {},
     "output_type": "execute_result"
    }
   ],
   "source": [
    "# B : Business days\n",
    "pd.date_range(start=\"2023/1/5\",end=\"2023/1/28\",freq=\"B\")"
   ]
  },
  {
   "cell_type": "code",
   "execution_count": 4,
   "id": "70d4b257",
   "metadata": {},
   "outputs": [
    {
     "data": {
      "text/plain": [
       "DatetimeIndex(['2023-01-05', '2023-01-12', '2023-01-19', '2023-01-26'], dtype='datetime64[ns]', freq='W-THU')"
      ]
     },
     "execution_count": 4,
     "metadata": {},
     "output_type": "execute_result"
    }
   ],
   "source": [
    "# W : one day per week\n",
    "pd.date_range(start=\"2023/1/5\",end=\"2023/1/28\",freq=\"W-THU\")"
   ]
  },
  {
   "cell_type": "code",
   "execution_count": 5,
   "id": "1b13f445",
   "metadata": {},
   "outputs": [
    {
     "data": {
      "text/plain": [
       "DatetimeIndex(['2023-01-05 00:00:00', '2023-01-05 06:00:00',\n",
       "               '2023-01-05 12:00:00', '2023-01-05 18:00:00',\n",
       "               '2023-01-06 00:00:00', '2023-01-06 06:00:00',\n",
       "               '2023-01-06 12:00:00', '2023-01-06 18:00:00',\n",
       "               '2023-01-07 00:00:00', '2023-01-07 06:00:00',\n",
       "               '2023-01-07 12:00:00', '2023-01-07 18:00:00',\n",
       "               '2023-01-08 00:00:00', '2023-01-08 06:00:00',\n",
       "               '2023-01-08 12:00:00', '2023-01-08 18:00:00',\n",
       "               '2023-01-09 00:00:00', '2023-01-09 06:00:00',\n",
       "               '2023-01-09 12:00:00', '2023-01-09 18:00:00',\n",
       "               '2023-01-10 00:00:00', '2023-01-10 06:00:00',\n",
       "               '2023-01-10 12:00:00', '2023-01-10 18:00:00',\n",
       "               '2023-01-11 00:00:00', '2023-01-11 06:00:00',\n",
       "               '2023-01-11 12:00:00', '2023-01-11 18:00:00',\n",
       "               '2023-01-12 00:00:00', '2023-01-12 06:00:00',\n",
       "               '2023-01-12 12:00:00', '2023-01-12 18:00:00',\n",
       "               '2023-01-13 00:00:00', '2023-01-13 06:00:00',\n",
       "               '2023-01-13 12:00:00', '2023-01-13 18:00:00',\n",
       "               '2023-01-14 00:00:00', '2023-01-14 06:00:00',\n",
       "               '2023-01-14 12:00:00', '2023-01-14 18:00:00',\n",
       "               '2023-01-15 00:00:00', '2023-01-15 06:00:00',\n",
       "               '2023-01-15 12:00:00', '2023-01-15 18:00:00',\n",
       "               '2023-01-16 00:00:00', '2023-01-16 06:00:00',\n",
       "               '2023-01-16 12:00:00', '2023-01-16 18:00:00',\n",
       "               '2023-01-17 00:00:00', '2023-01-17 06:00:00',\n",
       "               '2023-01-17 12:00:00', '2023-01-17 18:00:00',\n",
       "               '2023-01-18 00:00:00', '2023-01-18 06:00:00',\n",
       "               '2023-01-18 12:00:00', '2023-01-18 18:00:00',\n",
       "               '2023-01-19 00:00:00', '2023-01-19 06:00:00',\n",
       "               '2023-01-19 12:00:00', '2023-01-19 18:00:00',\n",
       "               '2023-01-20 00:00:00', '2023-01-20 06:00:00',\n",
       "               '2023-01-20 12:00:00', '2023-01-20 18:00:00',\n",
       "               '2023-01-21 00:00:00', '2023-01-21 06:00:00',\n",
       "               '2023-01-21 12:00:00', '2023-01-21 18:00:00',\n",
       "               '2023-01-22 00:00:00', '2023-01-22 06:00:00',\n",
       "               '2023-01-22 12:00:00', '2023-01-22 18:00:00',\n",
       "               '2023-01-23 00:00:00', '2023-01-23 06:00:00',\n",
       "               '2023-01-23 12:00:00', '2023-01-23 18:00:00',\n",
       "               '2023-01-24 00:00:00', '2023-01-24 06:00:00',\n",
       "               '2023-01-24 12:00:00', '2023-01-24 18:00:00',\n",
       "               '2023-01-25 00:00:00', '2023-01-25 06:00:00',\n",
       "               '2023-01-25 12:00:00', '2023-01-25 18:00:00',\n",
       "               '2023-01-26 00:00:00', '2023-01-26 06:00:00',\n",
       "               '2023-01-26 12:00:00', '2023-01-26 18:00:00',\n",
       "               '2023-01-27 00:00:00', '2023-01-27 06:00:00',\n",
       "               '2023-01-27 12:00:00', '2023-01-27 18:00:00',\n",
       "               '2023-01-28 00:00:00'],\n",
       "              dtype='datetime64[ns]', freq='6H')"
      ]
     },
     "execution_count": 5,
     "metadata": {},
     "output_type": "execute_result"
    }
   ],
   "source": [
    "# H hourly data\n",
    "pd.date_range(start=\"2023/1/5\",end=\"2023/1/28\",freq=\"6H\")"
   ]
  },
  {
   "cell_type": "code",
   "execution_count": 7,
   "id": "f656c371",
   "metadata": {},
   "outputs": [
    {
     "data": {
      "text/plain": [
       "DatetimeIndex(['2023-01-31', '2023-02-28'], dtype='datetime64[ns]', freq='M')"
      ]
     },
     "execution_count": 7,
     "metadata": {},
     "output_type": "execute_result"
    }
   ],
   "source": [
    "# m : month end\n",
    "pd.date_range(start=\"2023/1/5\",end=\"2023/2/28\",freq=\"M\")"
   ]
  },
  {
   "cell_type": "code",
   "execution_count": 8,
   "id": "c8d3482b",
   "metadata": {},
   "outputs": [
    {
     "data": {
      "text/plain": [
       "DatetimeIndex(['2023-02-01'], dtype='datetime64[ns]', freq='MS')"
      ]
     },
     "execution_count": 8,
     "metadata": {},
     "output_type": "execute_result"
    }
   ],
   "source": [
    "# Ms :month start\n",
    "pd.date_range(start=\"2023/1/5\",end=\"2023/2/28\",freq=\"MS\")"
   ]
  },
  {
   "cell_type": "code",
   "execution_count": 9,
   "id": "194148e0",
   "metadata": {},
   "outputs": [
    {
     "data": {
      "text/plain": [
       "DatetimeIndex(['2023-12-31', '2024-12-31', '2025-12-31', '2026-12-31',\n",
       "               '2027-12-31', '2028-12-31', '2029-12-31'],\n",
       "              dtype='datetime64[ns]', freq='A-DEC')"
      ]
     },
     "execution_count": 9,
     "metadata": {},
     "output_type": "execute_result"
    }
   ],
   "source": [
    "# A: year end\n",
    "pd.date_range(start=\"2023/1/5\",end=\"2030/1/28\",freq=\"A\")"
   ]
  },
  {
   "cell_type": "code",
   "execution_count": 11,
   "id": "70a4e46a",
   "metadata": {},
   "outputs": [
    {
     "data": {
      "text/plain": [
       "DatetimeIndex(['2023-01-05 00:00:00', '2023-01-05 01:00:00',\n",
       "               '2023-01-05 02:00:00', '2023-01-05 03:00:00',\n",
       "               '2023-01-05 04:00:00', '2023-01-05 05:00:00',\n",
       "               '2023-01-05 06:00:00', '2023-01-05 07:00:00',\n",
       "               '2023-01-05 08:00:00', '2023-01-05 09:00:00',\n",
       "               '2023-01-05 10:00:00', '2023-01-05 11:00:00',\n",
       "               '2023-01-05 12:00:00', '2023-01-05 13:00:00',\n",
       "               '2023-01-05 14:00:00', '2023-01-05 15:00:00',\n",
       "               '2023-01-05 16:00:00', '2023-01-05 17:00:00',\n",
       "               '2023-01-05 18:00:00', '2023-01-05 19:00:00',\n",
       "               '2023-01-05 20:00:00', '2023-01-05 21:00:00',\n",
       "               '2023-01-05 22:00:00', '2023-01-05 23:00:00',\n",
       "               '2023-01-06 00:00:00'],\n",
       "              dtype='datetime64[ns]', freq='H')"
      ]
     },
     "execution_count": 11,
     "metadata": {},
     "output_type": "execute_result"
    }
   ],
   "source": [
    "#using pewriods (numders of result)\n",
    "pd.date_range(start=\"2023/1/5\",periods=25,freq=\"H\")"
   ]
  },
  {
   "cell_type": "markdown",
   "id": "bef6b4b6",
   "metadata": {},
   "source": [
    "## to_date time function\n",
    "- converts existing object to pandas timestamp/datetimeindex object"
   ]
  },
  {
   "cell_type": "code",
   "execution_count": 13,
   "id": "c950681a",
   "metadata": {},
   "outputs": [],
   "source": [
    "s = pd.Series([\"2023/1/1\",\"2023/1/2\",\"2023/1/3\"])"
   ]
  },
  {
   "cell_type": "code",
   "execution_count": 16,
   "id": "26166ee4",
   "metadata": {},
   "outputs": [
    {
     "data": {
      "text/plain": [
       "0    January\n",
       "1    January\n",
       "2    January\n",
       "dtype: object"
      ]
     },
     "execution_count": 16,
     "metadata": {},
     "output_type": "execute_result"
    }
   ],
   "source": [
    "pd.to_datetime(s).dt.month_name()"
   ]
  },
  {
   "cell_type": "code",
   "execution_count": null,
   "id": "976b3796",
   "metadata": {},
   "outputs": [],
   "source": []
  },
  {
   "cell_type": "code",
   "execution_count": null,
   "id": "289cee9a",
   "metadata": {},
   "outputs": [],
   "source": []
  },
  {
   "cell_type": "code",
   "execution_count": null,
   "id": "6992d9f2",
   "metadata": {},
   "outputs": [],
   "source": []
  },
  {
   "cell_type": "code",
   "execution_count": null,
   "id": "c1eb873b",
   "metadata": {},
   "outputs": [],
   "source": []
  },
  {
   "cell_type": "code",
   "execution_count": null,
   "id": "884baaad",
   "metadata": {},
   "outputs": [],
   "source": []
  },
  {
   "cell_type": "code",
   "execution_count": null,
   "id": "935f8159",
   "metadata": {},
   "outputs": [],
   "source": []
  },
  {
   "cell_type": "code",
   "execution_count": null,
   "id": "250fb171",
   "metadata": {},
   "outputs": [],
   "source": []
  },
  {
   "cell_type": "code",
   "execution_count": null,
   "id": "61f77ad7",
   "metadata": {},
   "outputs": [],
   "source": []
  }
 ],
 "metadata": {
  "kernelspec": {
   "display_name": "Python 3 (ipykernel)",
   "language": "python",
   "name": "python3"
  },
  "language_info": {
   "codemirror_mode": {
    "name": "ipython",
    "version": 3
   },
   "file_extension": ".py",
   "mimetype": "text/x-python",
   "name": "python",
   "nbconvert_exporter": "python",
   "pygments_lexer": "ipython3",
   "version": "3.10.9"
  }
 },
 "nbformat": 4,
 "nbformat_minor": 5
}
