{
 "cells": [
  {
   "cell_type": "code",
   "execution_count": null,
   "id": "9a25e591",
   "metadata": {},
   "outputs": [],
   "source": [
    "### Object oriented programing concept"
   ]
  },
  {
   "cell_type": "code",
   "execution_count": 1,
   "id": "e43635ca",
   "metadata": {},
   "outputs": [],
   "source": [
    "l = [1,2,3,4,5,6,7,8]"
   ]
  },
  {
   "cell_type": "code",
   "execution_count": 5,
   "id": "93ff5e9d",
   "metadata": {
    "scrolled": true
   },
   "outputs": [],
   "source": [
    "#l.upper ## we solve the object has no attribute"
   ]
  },
  {
   "cell_type": "code",
   "execution_count": null,
   "id": "02674794",
   "metadata": {},
   "outputs": [],
   "source": [
    "## In python every elements are object\n",
    "# Generality to Specifity\n",
    "#i.e. specify your variables"
   ]
  },
  {
   "cell_type": "code",
   "execution_count": null,
   "id": "0418cd71",
   "metadata": {},
   "outputs": [],
   "source": [
    "# object velong to object/variable"
   ]
  },
  {
   "cell_type": "code",
   "execution_count": 5,
   "id": "6bfb2433",
   "metadata": {},
   "outputs": [],
   "source": [
    "# In python class make blue print of object\n",
    "# CLass comprise of data and function(method or behaviour)"
   ]
  },
  {
   "cell_type": "code",
   "execution_count": null,
   "id": "29d1464c",
   "metadata": {},
   "outputs": [],
   "source": [
    "## class Structure\n",
    "#class Car: #class name should be pascal case i,e first latter should be Capital\n",
    "#color =\"blue\" #data should be snake case\n",
    "#model =\"sports\" #data\n",
    "#def calculate_Avg_Speed(km, time)\n",
    "#       somecode"
   ]
  },
  {
   "cell_type": "code",
   "execution_count": null,
   "id": "be68d855",
   "metadata": {},
   "outputs": [],
   "source": [
    "#create object in python\n",
    "#car ----> nano then nano=Car(#data type)"
   ]
  },
  {
   "cell_type": "code",
   "execution_count": 9,
   "id": "eb4dee16",
   "metadata": {},
   "outputs": [
    {
     "data": {
      "text/plain": [
       "7"
      ]
     },
     "execution_count": 9,
     "metadata": {},
     "output_type": "execute_result"
    }
   ],
   "source": [
    "l = [1,2,3,4,5,89,97]\n",
    "len(l) #function is general"
   ]
  },
  {
   "cell_type": "code",
   "execution_count": 11,
   "id": "30015f0b",
   "metadata": {},
   "outputs": [
    {
     "data": {
      "text/plain": [
       "[1, 2, 3, 4, 5, 89, 97, 27, 27]"
      ]
     },
     "execution_count": 11,
     "metadata": {},
     "output_type": "execute_result"
    }
   ],
   "source": [
    "l.append(27)#mehod which is function define inside a class #use only in special type of data\n",
    "l"
   ]
  },
  {
   "cell_type": "code",
   "execution_count": null,
   "id": "ab3a5abb",
   "metadata": {},
   "outputs": [],
   "source": []
  },
  {
   "cell_type": "code",
   "execution_count": null,
   "id": "d8dd06dd",
   "metadata": {},
   "outputs": [],
   "source": [
    "## mehod are special function which is written inside a class"
   ]
  },
  {
   "cell_type": "code",
   "execution_count": 1,
   "id": "33e32043",
   "metadata": {},
   "outputs": [],
   "source": [
    "class atm:\n",
    "    #int is a constructor(is a special method which declare itself)\n",
    "    #constructor is magic methods(__mehod__ to identifly,this method does not call object )\n",
    "    #constructor button is not in hand of user. e.g =Internet connection, Database connection.\n",
    "    #When self.create_pin() shows error because\n",
    "    #In class thier wil be data and method can be access by object\n",
    "              \n",
    "    \n",
    "        def __init__(self):          # __init__ always\n",
    "       #self is the calling object i.e. sbi =atm()     \n",
    "            self.pin=\"\"\n",
    "            self.balance=0\n",
    "            \n",
    "            self.menu()\n",
    "            \n",
    "        def menu (self):\n",
    "            user_input =input('''\n",
    "                                  Hello, How you like to proceed?\n",
    "                                  1.Enter 1 to create pin\n",
    "                                  2.Enter 2 to deposit\n",
    "                                  3.Enter 3 to withdraw\n",
    "                                  4.Enter 4 to check balance\n",
    "                                  5.Enter 5 to exit\n",
    "                                  \n",
    "                                  ''')\n",
    "            if user_input =='1':\n",
    "                self.create_pin()\n",
    "            elif user_input=='2':\n",
    "                self.deposit()\n",
    "            elif user_input =='3':\n",
    "                self.withdraw()\n",
    "            elif user_input =='4':\n",
    "                self.withdraw()\n",
    "            else:    #user_input=='5':\n",
    "                print('Exit')\n",
    "                \n",
    "        def create_pin(self):\n",
    "            self.pin = input(\"Enter your pin\")\n",
    "            print(\"Pin in set Successfully\")\n",
    "            \n",
    "        def deposit(self):\n",
    "            temp = input('Enter the pin')\n",
    "            if temp == self.pin:\n",
    "                amount=int(input('Enter the Amount'))\n",
    "                self.balance== self.balance + amount\n",
    "                print(\"depoit Sussecfully\")\n",
    "            else:\n",
    "                print(\"Invalid PIN\")\n",
    "        \n",
    "        def withdraw(self):\n",
    "            temp = input('Enter the pin')\n",
    "            if temp == self.pin:\n",
    "                amount=int(input('Enter the Amount'))\n",
    "                if amount == self.balance:\n",
    "                    self.balance = self.balance - amount \n",
    "                    print(\"Withdraw Sussecfully\")\n",
    "                else:\n",
    "                    print('Insufficient balance')\n",
    "            else:\n",
    "                print(\"Invalid PIN\")   \n",
    "                \n",
    "        def check_balance(self):\n",
    "            temp = input(\"Enter the PIN\")\n",
    "            if temp==self.pin:\n",
    "                print(\"The balance\", self.balance)\n",
    "            else:\n",
    "                print(\"Invalid PIN\")\n",
    "              \n",
    "            \n",
    "                "
   ]
  },
  {
   "cell_type": "code",
   "execution_count": 1,
   "id": "a31d1a07",
   "metadata": {},
   "outputs": [],
   "source": [
    "#from ATM import atm\n",
    "#sbi = atm()"
   ]
  },
  {
   "cell_type": "code",
   "execution_count": null,
   "id": "e42854ff",
   "metadata": {},
   "outputs": [],
   "source": [
    "#thier is no datatype fraction 1 by 2"
   ]
  },
  {
   "cell_type": "code",
   "execution_count": null,
   "id": "1f817d5d",
   "metadata": {},
   "outputs": [],
   "source": [
    "##fraction\n",
    "\n",
    "class Fraction:\n",
    "    def __init__(self,n,d):\n",
    "        self.num = n\n",
    "        self.den = d\n",
    "     \n",
    "    def __str__(self): #To print the function with the helpof magic function\n",
    "        return\"{}\\{}\".format(self.num,self.den)\n",
    "    \n",
    "    def __add__(self, other):\n",
    "        temp_num =self.num*other.den + other.num*self.den\n",
    "        temp_den =self.den+other.den\n",
    "        ##simplify\n",
    "        return'{}\\{}'.format(temp_num,temp_den)\n",
    "    \n",
    "    def __sub__(self, other):\n",
    "        temp_num =self.num*other.den - other.num*self.den\n",
    "        temp_den =self.den+other.den\n",
    "        ##simplify\n",
    "        return'{}\\{}'.format(temp_num,temp_den)\n",
    "    \n",
    "    \n",
    "    def __mul__(self, other):\n",
    "        temp_num =self.num*other.den\n",
    "        temp_den =self.den+other.den\n",
    "        ##simplify\n",
    "        return'{}\\{}'.format(temp_num,temp_den)\n",
    "    \n",
    "    def __truediv__(self, other):\n",
    "        temp_num =self.num*self.\n",
    "        temp_den =self.den+other.den\n",
    "        ##simplify\n",
    "        return'{}\\{}'.format(temp_num,temp_den)\n",
    "    "
   ]
  },
  {
   "cell_type": "code",
   "execution_count": null,
   "id": "5aa723ce",
   "metadata": {},
   "outputs": [],
   "source": [
    "###\n",
    "##magic method\n",
    "# __st__\n",
    "#__add__\n"
   ]
  },
  {
   "cell_type": "code",
   "execution_count": null,
   "id": "1fdbe2f7",
   "metadata": {},
   "outputs": [],
   "source": [
    "class atm:\n",
    "    #int is a constructor(is a special method which declare itself)\n",
    "    #constructor is magic methods(__mehod__ to identifly,this method does not call object )\n",
    "    #constructor button is not in hand of user. e.g =Internet connection, Database connection.\n",
    "    #When self.create_pin() shows error because\n",
    "    #In class thier wil be data and method can be access by object\n",
    "              \n",
    "    \n",
    "        def __init__(self):          # __init__ always\n",
    "       #self is the calling object i.e. sbi =atm()     \n",
    "            self.__pin=\"\"\n",
    "            self.__balance=0\n",
    "            \n",
    "            self.menu()\n",
    "            \n",
    "        def menu (self):\n",
    "            user_input =input('''\n",
    "                                  Hello, How you like to proceed?\n",
    "                                  1.Enter 1 to create pin\n",
    "                                  2.Enter 2 to deposit\n",
    "                                  3.Enter 3 to withdraw\n",
    "                                  4.Enter 4 to check balance\n",
    "                                  5.Enter 5 to exit\n",
    "                                  \n",
    "                                  ''')\n",
    "            if user_input =='1':\n",
    "                self.create_pin()\n",
    "            elif user_input=='2':\n",
    "                self.deposit()\n",
    "            elif user_input =='3':\n",
    "                self.withdraw()\n",
    "            elif user_input =='4':\n",
    "                self.withdraw()\n",
    "            else:    #user_input=='5':\n",
    "                print('Exit')\n",
    "                \n",
    "        def create_pin(self):\n",
    "            self.__pin = input(\"Enter your pin\")\n",
    "            print(\"Pin in set Successfully\")\n",
    "            \n",
    "        def deposit(self):\n",
    "            temp = input('Enter the pin')\n",
    "            if temp == self.__pin:\n",
    "                amount=int(input('Enter the Amount'))\n",
    "                self.__balance== self.balance + amount\n",
    "                print(\"depoit Sussecfully\")\n",
    "            else:\n",
    "                print(\"Invalid PIN\")\n",
    "        \n",
    "        def withdraw(self):\n",
    "            temp = input('Enter the pin')\n",
    "            if temp == self.__pin:\n",
    "                amount=int(input('Enter the Amount'))\n",
    "                if amount == self.__balance:\n",
    "                    self.balance = self.__balance - amount \n",
    "                    print(\"Withdraw Sussecfully\")\n",
    "                else:\n",
    "                    print('Insufficient balance')\n",
    "            else:\n",
    "                print(\"Invalid PIN\")   \n",
    "                \n",
    "        def check_balance(self):\n",
    "            temp = input(\"Enter the PIN\")\n",
    "            if temp==self.__pin:\n",
    "                print(\"The balance\", self.balance)\n",
    "            else:\n",
    "                print(\"Invalid PIN\")\n",
    "              \n",
    "            \n",
    "                "
   ]
  },
  {
   "cell_type": "code",
   "execution_count": 1,
   "id": "ace86be1",
   "metadata": {},
   "outputs": [],
   "source": [
    "# sbi.balance = \"eggll\"\n",
    "#then the code will crash\n",
    "# in java private is use retain inherient char of data set\n",
    "# but in put __is use as shown above\n",
    "# __ is aslo hide method and aslo hide the data\n",
    "#__ is converted into __method__data\n",
    "#  Nothing is truely private in python"
   ]
  },
  {
   "cell_type": "code",
   "execution_count": null,
   "id": "91f09e17",
   "metadata": {},
   "outputs": [],
   "source": [
    "class atm:\n",
    "    #int is a constructor(is a special method which declare itself)\n",
    "    #constructor is magic methods(__mehod__ to identifly,this method does not call object )\n",
    "    #constructor button is not in hand of user. e.g =Internet connection, Database connection.\n",
    "    #When self.create_pin() shows error because\n",
    "    #In class thier wil be data and method can be access by object\n",
    "              \n",
    "    \n",
    "        def __init__(self):          # __init__ always\n",
    "       #self is the calling object i.e. sbi =atm()     \n",
    "            self.__pin=\"\"\n",
    "            self.__balance=0\n",
    "            \n",
    "            self.menu()\n",
    "        def get_pin(self):\n",
    "            return.__pin    #to get Pin\n",
    "        def set_pin(self,new_pin):\n",
    "            if type(new_pin)== str: # it is called in-capsullation\n",
    "                self.__pin=new_pin  # to change new pin to old pin\n",
    "                print('PIN changed')\n",
    "            else:\n",
    "                print(\"We could not allowed\")\n",
    "            \n",
    "            \n",
    "            \n",
    "        def menu (self):\n",
    "            user_input =input('''\n",
    "                                  Hello, How you like to proceed?\n",
    "                                  1.Enter 1 to create pin\n",
    "                                  2.Enter 2 to deposit\n",
    "                                  3.Enter 3 to withdraw\n",
    "                                  4.Enter 4 to check balance\n",
    "                                  5.Enter 5 to exit\n",
    "                                  \n",
    "                                  ''')\n",
    "            if user_input =='1':\n",
    "                self.create_pin()\n",
    "            elif user_input=='2':\n",
    "                self.deposit()\n",
    "            elif user_input =='3':\n",
    "                self.withdraw()\n",
    "            elif user_input =='4':\n",
    "                self.withdraw()\n",
    "            else:    #user_input=='5':\n",
    "                print('Exit')\n",
    "                \n",
    "        def create_pin(self):\n",
    "            self.__pin = input(\"Enter your pin\")\n",
    "            print(\"Pin in set Successfully\")\n",
    "            \n",
    "        def deposit(self):\n",
    "            temp = input('Enter the pin')\n",
    "            if temp == self.__pin:\n",
    "                amount=int(input('Enter the Amount'))\n",
    "                self.__balance== self.balance + amount\n",
    "                print(\"depoit Sussecfully\")\n",
    "            else:\n",
    "                print(\"Invalid PIN\")\n",
    "        \n",
    "        def withdraw(self):\n",
    "            temp = input('Enter the pin')\n",
    "            if temp == self.__pin:\n",
    "                amount=int(input('Enter the Amount'))\n",
    "                if amount == self.__balance:\n",
    "                    self.balance = self.__balance - amount \n",
    "                    print(\"Withdraw Sussecfully\")\n",
    "                else:\n",
    "                    print('Insufficient balance')\n",
    "            else:\n",
    "                print(\"Invalid PIN\")   \n",
    "                \n",
    "        def check_balance(self):\n",
    "            temp = input(\"Enter the PIN\")\n",
    "            if temp==self.__pin:\n",
    "                print(\"The balance\", self.balance)\n",
    "            else:\n",
    "                print(\"Invalid PIN\")\n",
    "              \n",
    "            \n",
    "                "
   ]
  },
  {
   "cell_type": "code",
   "execution_count": null,
   "id": "c7b43538",
   "metadata": {},
   "outputs": [],
   "source": [
    "# In capsulation required to restrict data to retain its original charactor\n",
    "# private attributr __object"
   ]
  },
  {
   "cell_type": "code",
   "execution_count": null,
   "id": "28d49684",
   "metadata": {},
   "outputs": [],
   "source": [
    "# refernce variable \n",
    "# sbi = atm()# reference variable, when object is created where variable is stored"
   ]
  },
  {
   "cell_type": "code",
   "execution_count": null,
   "id": "7bab5e7c",
   "metadata": {},
   "outputs": [],
   "source": [
    "# pass by "
   ]
  },
  {
   "cell_type": "code",
   "execution_count": 2,
   "id": "ea1902fb",
   "metadata": {},
   "outputs": [
    {
     "data": {
      "text/plain": [
       "<__main__.Customer at 0x149c1db8250>"
      ]
     },
     "execution_count": 2,
     "metadata": {},
     "output_type": "execute_result"
    }
   ],
   "source": [
    "class Customer:\n",
    "    \n",
    "    def __init__(self,name,gender):\n",
    "        self.name=name\n",
    "        self.gender=gender\n",
    "    \n",
    "    def greet(customer):\n",
    "        if customer.gender ==\"Male\":\n",
    "            print(\"Hello\",customer.name,\"Sir\")\n",
    "        else:\n",
    "            print(\"Hello\",customer.name,\"Ma'am\")\n",
    "            \n",
    "            \n",
    "cust=Customer(\"Abhijit\",\"Male\")\n",
    "    \n",
    "greet(cust)"
   ]
  },
  {
   "cell_type": "code",
   "execution_count": null,
   "id": "c4bcda9c",
   "metadata": {},
   "outputs": [],
   "source": [
    "# pass by reference\n",
    "class Customer:\n",
    "    \n",
    "    def __init__(self,name,gender):\n",
    "        self.name=name\n",
    "   \n",
    "    def greet(Customer):   \n",
    "            pass\n",
    "    cust=Customer(\"Abhijit\",\"Male\")\n",
    "    \n",
    "    greet(cust)\n",
    "    "
   ]
  },
  {
   "cell_type": "code",
   "execution_count": null,
   "id": "8d479887",
   "metadata": {},
   "outputs": [],
   "source": [
    "# object in class arfe mutable like list"
   ]
  },
  {
   "cell_type": "code",
   "execution_count": 15,
   "id": "03b6c91f",
   "metadata": {},
   "outputs": [
    {
     "name": "stdout",
     "output_type": "stream",
     "text": [
      "nitish 24\n",
      "Abhijit 27\n"
     ]
    }
   ],
   "source": [
    "# collection of objects\n",
    "class Customer:\n",
    "    def __init__(self,name,age):\n",
    "        self.name = name\n",
    "        self.age = age\n",
    "            \n",
    "c1 = Customer(\"nitish\",\"24\") \n",
    "c2 = Customer(\"Abhijit\",\"27\")\n",
    "    \n",
    "l=[c1,c2]   \n",
    "\n",
    "for i in l:\n",
    "    print(i.name, i.age)\n"
   ]
  },
  {
   "cell_type": "code",
   "execution_count": 19,
   "id": "be7e8546",
   "metadata": {},
   "outputs": [
    {
     "name": "stdout",
     "output_type": "stream",
     "text": [
      "I am nitish and my age is 24\n",
      "I am Abhijit and my age is 27\n"
     ]
    }
   ],
   "source": [
    "# collection of objects\n",
    "class Customer:\n",
    "    def __init__(self,name,age):\n",
    "        self.name = name\n",
    "        self.age = age\n",
    "    def intro(self):\n",
    "        print(\"I am\",self.name,\"and my age is\",self.age)\n",
    "            \n",
    "c1 = Customer(\"nitish\",\"24\") \n",
    "c2 = Customer(\"Abhijit\",\"27\")\n",
    "    \n",
    "l=[c1,c2]   \n",
    "\n",
    "for i in l:\n",
    "    i.intro()\n"
   ]
  },
  {
   "cell_type": "code",
   "execution_count": null,
   "id": "d18239d9",
   "metadata": {},
   "outputs": [],
   "source": [
    "#static keyword\n",
    "class atm:\n",
    "    #int is a constructor(is a special method which declare itself)\n",
    "    #constructor is magic methods(__mehod__ to identifly,this method does not call object )\n",
    "    #constructor button is not in hand of user. e.g =Internet connection, Database connection.\n",
    "    #When self.create_pin() shows error because\n",
    "    #In class thier wil be data and method can be access by object\n",
    "         #static\n",
    "          counter =1\n",
    "            \n",
    "    \n",
    "        def __init__(self):          # __init__ always\n",
    "       #self is the calling object i.e. sbi =atm()     \n",
    "            self.__pin=\"\"\n",
    "            self.__balance=0\n",
    "            self.sno =atm.counter\n",
    "            atm.counter = 1\n",
    "            \n",
    "            self.menu()\n",
    "        def get_pin(self):\n",
    "            return.__pin    #to get Pin\n",
    "        def set_pin(self,new_pin):\n",
    "            if type(new_pin)== str: # it is called in-capsullation\n",
    "                self.__pin=new_pin  # to change new pin to old pin\n",
    "                print('PIN changed')\n",
    "            else:\n",
    "                print(\"We could not allowed\")\n",
    "            \n",
    "            \n",
    "            \n",
    "        def menu (self):\n",
    "            user_input =input('''\n",
    "                                  Hello, How you like to proceed?\n",
    "                                  1.Enter 1 to create pin\n",
    "                                  2.Enter 2 to deposit\n",
    "                                  3.Enter 3 to withdraw\n",
    "                                  4.Enter 4 to check balance\n",
    "                                  5.Enter 5 to exit\n",
    "                                  \n",
    "                                  ''')\n",
    "            if user_input =='1':\n",
    "                self.create_pin()\n",
    "            elif user_input=='2':\n",
    "                self.deposit()\n",
    "            elif user_input =='3':\n",
    "                self.withdraw()\n",
    "            elif user_input =='4':\n",
    "                self.withdraw()\n",
    "            else:    #user_input=='5':\n",
    "                print('Exit')\n",
    "                \n",
    "        def create_pin(self):\n",
    "            self.__pin = input(\"Enter your pin\")\n",
    "            print(\"Pin in set Successfully\")\n",
    "            \n",
    "        def deposit(self):\n",
    "            temp = input('Enter the pin')\n",
    "            if temp == self.__pin:\n",
    "                amount=int(input('Enter the Amount'))\n",
    "                self.__balance== self.balance + amount\n",
    "                print(\"depoit Sussecfully\")\n",
    "            else:\n",
    "                print(\"Invalid PIN\")\n",
    "        \n",
    "        def withdraw(self):\n",
    "            temp = input('Enter the pin')\n",
    "            if temp == self.__pin:\n",
    "                amount=int(input('Enter the Amount'))\n",
    "                if amount == self.__balance:\n",
    "                    self.balance = self.__balance - amount \n",
    "                    print(\"Withdraw Sussecfully\")\n",
    "                else:\n",
    "                    print('Insufficient balance')\n",
    "            else:\n",
    "                print(\"Invalid PIN\")   \n",
    "                \n",
    "        def check_balance(self):\n",
    "            temp = input(\"Enter the PIN\")\n",
    "            if temp==self.__pin:\n",
    "                print(\"The balance\", self.balance)\n",
    "            else:\n",
    "                print(\"Invalid PIN\")\n",
    "              \n",
    "            \n",
    "                "
   ]
  },
  {
   "cell_type": "code",
   "execution_count": null,
   "id": "5a0dd467",
   "metadata": {},
   "outputs": [],
   "source": [
    "# instaneous variable is different for different object\n",
    "# Statis variable "
   ]
  },
  {
   "cell_type": "code",
   "execution_count": null,
   "id": "f79a9829",
   "metadata": {},
   "outputs": [],
   "source": [
    "# Relationship in classes\n",
    "# inheretance(car is vehicle) and agregation(Address)"
   ]
  },
  {
   "cell_type": "code",
   "execution_count": 22,
   "id": "aaaf5931",
   "metadata": {},
   "outputs": [
    {
     "name": "stdout",
     "output_type": "stream",
     "text": [
      "799245\n"
     ]
    }
   ],
   "source": [
    "class Customer:\n",
    "    \n",
    "    def __init__(self,name,gender,address):\n",
    "        self.name=name\n",
    "        self.gender=gender\n",
    "        self.address=address\n",
    "        \n",
    "class Address:\n",
    "     def __init__(self,city,pincode,state):\n",
    "        self.city=city\n",
    "        self.pincode=pincode\n",
    "        self.state=state\n",
    "     def    \n",
    "        \n",
    "add=Address(\"Dharmanagar\",799245,\"Tripura\")\n",
    "cust = Customer(\"Abhi\",\"Male\",add)\n",
    "\n",
    "print(cust.address.pincode)\n",
    "        \n",
    "    "
   ]
  },
  {
   "cell_type": "code",
   "execution_count": null,
   "id": "e555f03c",
   "metadata": {},
   "outputs": [],
   "source": []
  },
  {
   "cell_type": "code",
   "execution_count": null,
   "id": "4879cc4c",
   "metadata": {},
   "outputs": [],
   "source": []
  },
  {
   "cell_type": "code",
   "execution_count": null,
   "id": "c041c342",
   "metadata": {},
   "outputs": [],
   "source": []
  },
  {
   "cell_type": "code",
   "execution_count": null,
   "id": "33114beb",
   "metadata": {},
   "outputs": [],
   "source": []
  },
  {
   "cell_type": "code",
   "execution_count": null,
   "id": "f7beff17",
   "metadata": {},
   "outputs": [],
   "source": []
  },
  {
   "cell_type": "code",
   "execution_count": null,
   "id": "90a7de7d",
   "metadata": {},
   "outputs": [],
   "source": []
  },
  {
   "cell_type": "code",
   "execution_count": null,
   "id": "678c2244",
   "metadata": {},
   "outputs": [],
   "source": []
  },
  {
   "cell_type": "code",
   "execution_count": null,
   "id": "ba6719e7",
   "metadata": {},
   "outputs": [],
   "source": []
  }
 ],
 "metadata": {
  "kernelspec": {
   "display_name": "Python 3 (ipykernel)",
   "language": "python",
   "name": "python3"
  },
  "language_info": {
   "codemirror_mode": {
    "name": "ipython",
    "version": 3
   },
   "file_extension": ".py",
   "mimetype": "text/x-python",
   "name": "python",
   "nbconvert_exporter": "python",
   "pygments_lexer": "ipython3",
   "version": "3.10.6"
  }
 },
 "nbformat": 4,
 "nbformat_minor": 5
}
