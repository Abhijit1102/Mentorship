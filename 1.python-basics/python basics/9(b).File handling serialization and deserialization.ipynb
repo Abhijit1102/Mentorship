{
 "cells": [
  {
   "cell_type": "markdown",
   "id": "5e9a431b",
   "metadata": {},
   "source": [
    "Some Theory\n",
    "Types of data used for I/O:\n",
    "Text - '12345' as a sequence of unicode chars\n",
    "Binary - 12345 as a sequence of bytes of its binary equivalent\n",
    "Hence there are 2 file types to deal with\n",
    "Text files - All program files are text files\n",
    "Binary Files - Images,music,video,exe files"
   ]
  },
  {
   "cell_type": "markdown",
   "id": "cbeb8787",
   "metadata": {},
   "source": [
    "How File I/O is done in most programming languages\n",
    "Open a file\n",
    "Read/Write data\n",
    "Close the file"
   ]
  },
  {
   "cell_type": "code",
   "execution_count": 39,
   "id": "a631b771",
   "metadata": {
    "ExecuteTime": {
     "end_time": "2022-11-29T07:28:48.645721Z",
     "start_time": "2022-11-29T07:28:48.627380Z"
    }
   },
   "outputs": [],
   "source": [
    "# case 1 - if the file is not present\n",
    "f = open('sample.txt','w')\n",
    "f.write('Hello world')\n",
    "f.close()\n",
    "# since file is closed hence this will not work\n",
    "#f.write('hello')"
   ]
  },
  {
   "cell_type": "code",
   "execution_count": 40,
   "id": "26723a04",
   "metadata": {
    "ExecuteTime": {
     "end_time": "2022-11-29T07:28:59.496086Z",
     "start_time": "2022-11-29T07:28:59.475580Z"
    }
   },
   "outputs": [],
   "source": [
    "# Problem with w mode\n",
    "# introducing append mode\n",
    "f = open('sample1.txt','a')\n",
    "f.write('\\nI am fine')\n",
    "f.close()"
   ]
  },
  {
   "cell_type": "code",
   "execution_count": 3,
   "id": "520f9414",
   "metadata": {
    "ExecuteTime": {
     "end_time": "2022-11-29T08:54:05.053355Z",
     "start_time": "2022-11-29T08:54:05.034764Z"
    }
   },
   "outputs": [],
   "source": [
    "# write lines\n",
    "L = ['hello\\n','hi\\n','how are you\\n','I am fine']\n",
    "\n",
    "f = open('sample.txt','w')\n",
    "f.writelines(L)\n",
    "f.close()"
   ]
  },
  {
   "cell_type": "code",
   "execution_count": 4,
   "id": "0b9675e9",
   "metadata": {
    "ExecuteTime": {
     "end_time": "2022-11-29T08:54:07.349270Z",
     "start_time": "2022-11-29T08:54:07.320597Z"
    }
   },
   "outputs": [
    {
     "name": "stdout",
     "output_type": "stream",
     "text": [
      "hello\n",
      "hi\n",
      "how are you\n",
      "I am fine\n"
     ]
    }
   ],
   "source": [
    "# reading from files\n",
    "# -> using read()\n",
    "f = open('sample.txt','r')\n",
    "s = f.read()\n",
    "print(s)\n",
    "f.close()"
   ]
  },
  {
   "cell_type": "code",
   "execution_count": 42,
   "id": "f55d5f20",
   "metadata": {
    "ExecuteTime": {
     "end_time": "2022-11-29T07:31:53.796401Z",
     "start_time": "2022-11-29T07:31:53.773534Z"
    }
   },
   "outputs": [
    {
     "name": "stdout",
     "output_type": "stream",
     "text": [
      "Hello world\n"
     ]
    }
   ],
   "source": [
    "# reading from files\n",
    "# -> using read()\n",
    "f = open('sample.txt','r')\n",
    "s = f.read(13)\n",
    "print(s)\n",
    "f.close()"
   ]
  },
  {
   "cell_type": "code",
   "execution_count": 12,
   "id": "92cd952c",
   "metadata": {
    "ExecuteTime": {
     "end_time": "2022-11-29T07:13:41.854613Z",
     "start_time": "2022-11-29T07:13:41.835067Z"
    }
   },
   "outputs": [
    {
     "name": "stdout",
     "output_type": "stream",
     "text": [
      "hello\n",
      "hi\n"
     ]
    }
   ],
   "source": [
    "# readline() -> to read line by line\n",
    "f = open('sample.txt','r')\n",
    "print(f.readline(),end='')\n",
    "print(f.readline(),end='')\n",
    "f.close()"
   ]
  },
  {
   "cell_type": "code",
   "execution_count": 14,
   "id": "874828c3",
   "metadata": {
    "ExecuteTime": {
     "end_time": "2022-11-29T07:14:59.613443Z",
     "start_time": "2022-11-29T07:14:59.597469Z"
    }
   },
   "outputs": [
    {
     "name": "stdout",
     "output_type": "stream",
     "text": [
      "hello\n",
      "hi\n",
      "how are you\n",
      "I am fine"
     ]
    }
   ],
   "source": [
    "# reading entire using readline\n",
    "f = open('sample.txt','r')\n",
    "\n",
    "while True:\n",
    "\n",
    "  data = f.readline()\n",
    "\n",
    "  if data == '':\n",
    "    break\n",
    "  else:\n",
    "    print(data,end='')\n",
    "\n",
    "f.close()"
   ]
  },
  {
   "cell_type": "markdown",
   "id": "69d80d20",
   "metadata": {},
   "source": [
    "Using Context Manager (With)\n",
    "It's a good idea to close a file after usage as it will free up the resources\n",
    "If we dont close it, garbage collector would close it\n",
    "with keyword closes the file as soon as the usage is over"
   ]
  },
  {
   "cell_type": "code",
   "execution_count": 43,
   "id": "3583bcf2",
   "metadata": {
    "ExecuteTime": {
     "end_time": "2022-11-29T07:42:58.932783Z",
     "start_time": "2022-11-29T07:42:58.923932Z"
    }
   },
   "outputs": [],
   "source": [
    "# with\n",
    "with open('sample1.txt','w') as f:\n",
    "  f.write('selmon bhai')"
   ]
  },
  {
   "cell_type": "code",
   "execution_count": null,
   "id": "51266adf",
   "metadata": {},
   "outputs": [],
   "source": [
    "### ############"
   ]
  },
  {
   "cell_type": "code",
   "execution_count": 45,
   "id": "dcb1c5c4",
   "metadata": {
    "ExecuteTime": {
     "end_time": "2022-11-29T07:44:16.202643Z",
     "start_time": "2022-11-29T07:44:16.173843Z"
    }
   },
   "outputs": [
    {
     "name": "stdout",
     "output_type": "stream",
     "text": [
      "selmon bhai\n"
     ]
    }
   ],
   "source": [
    "# try f.read() now\n",
    "with open('sample1.txt','r') as f:\n",
    "  print(f.readline())"
   ]
  },
  {
   "cell_type": "code",
   "execution_count": 19,
   "id": "cd5b4a45",
   "metadata": {
    "ExecuteTime": {
     "end_time": "2022-11-29T07:16:24.205620Z",
     "start_time": "2022-11-29T07:16:24.189600Z"
    }
   },
   "outputs": [
    {
     "name": "stdout",
     "output_type": "stream",
     "text": [
      "hello\n",
      "hi\n",
      "h\n",
      "ow are you\n",
      "\n",
      "I am fine\n",
      "\n"
     ]
    }
   ],
   "source": [
    "# moving within a file -> 10 char then 10 char\n",
    "with open('sample.txt','r') as f:\n",
    "  print(f.read(10))\n",
    "  print(f.read(10))\n",
    "  print(f.read(10))\n",
    "  print(f.read(10)) ## buffer memory "
   ]
  },
  {
   "cell_type": "markdown",
   "id": "88934732",
   "metadata": {},
   "source": [
    "Using Context Manager (With)\n",
    "It's a good idea to close a file after usage as it will free up the resources\n",
    "If we dont close it, garbage collector would close it\n",
    "with keyword closes the file as soon as the usage is over"
   ]
  },
  {
   "cell_type": "code",
   "execution_count": 46,
   "id": "f993607f",
   "metadata": {
    "ExecuteTime": {
     "end_time": "2022-11-29T07:49:32.604143Z",
     "start_time": "2022-11-29T07:49:32.583759Z"
    }
   },
   "outputs": [],
   "source": [
    "# benefit? -> to load a big file in memory\n",
    "big_L = ['hello world ' for i in range(1000)] ### A denomstration to buffering\n",
    "\n",
    "with open('big.txt','w') as f:\n",
    "  f.writelines(big_L)"
   ]
  },
  {
   "cell_type": "code",
   "execution_count": 54,
   "id": "58227859",
   "metadata": {
    "ExecuteTime": {
     "end_time": "2022-11-29T07:53:11.444567Z",
     "start_time": "2022-11-29T07:53:11.424454Z"
    }
   },
   "outputs": [
    {
     "name": "stdout",
     "output_type": "stream",
     "text": [
      "d hello wo***o world he***d hello wo***o world he***d hello wo***o world he***d hello wo***o world he***d hello wo***o world he***d hello wo***o world he***d hello wo***o world he***d hello wo***o world he***d hello wo***o world he***d hello wo***o world he***d hello wo***o world he***d hello wo***o world he***d hello wo***o world he***d hello wo***o world he***d hello wo***o world he***d hello wo***o world he***d hello wo***o world he***d hello wo***o world he***d hello wo***o world he***d hello wo***o world he***d hello wo***o world he***d hello wo***o world he***d hello wo***o world he***d hello wo***o world he***d hello wo***o world he***d hello wo***o world he***d hello wo***o world he***d hello wo***o world he***d hello wo***o world he***d hello wo***o world he***d hello wo***o world he***d hello wo***o world he***d hello wo***o world he***d hello wo***o world he***d hello wo***o world he***d hello wo***o world he***d hello wo***o world he***d hello wo***o world he***d hello wo***o world he***d hello wo***o world he***d hello wo***o world he***d hello wo***o world he***d hello wo***o world he***d hello wo***o world he***d hello wo***o world he***d hello wo***o world he***d hello wo***o world he***d hello wo***o world he***d hello wo***o world he***d hello wo***o world he***d hello wo***o world he***d hello wo***o world he***d hello wo***o world he***d hello wo***o world he***d hello wo***o world he***d hello wo***o world he***d hello wo***o world he***d hello wo***o world he***d hello wo***o world he***d hello wo***o world he***d hello wo***o world he***d hello wo***o world he***d hello wo***o world he***d hello wo***o world he***d hello wo***o world he***d hello wo***o world he***d hello wo***o world he***d hello wo***o world he***d hello wo***o world he***d hello wo***o world he***d hello wo***o world he***d hello wo***o world he***d hello wo***o world he***d hello wo***o world he***d hello wo***o world he***d hello wo***o world he***d hello wo***o world he***d hello wo***o world he***d hello wo***o world he***d hello wo***o world he***d hello wo***o world he***d hello wo***o world he***d hello wo***o world he***d hello wo***o world he***d hello wo***o world he***d hello wo***o world he***d hello wo***o world he***d hello wo***o world he***d hello wo***o world he***d hello wo***o world he***d hello wo***o world he***d hello wo***o world he***d hello wo***o world he***d hello wo***o world he***d hello wo***o world he***d hello wo***o world he***d hello wo***o world he***d hello wo***o world he***d hello wo***o world he***d hello wo***o world he***d hello wo***o world he***d hello wo***o world he***d hello wo***o world he***d hello wo***o world he***d hello wo***o world he***d hello wo***o world he***d hello wo***o world he***d hello wo***o world he***d hello wo***o world he***d hello wo***o world he***d hello wo***o world he***d hello wo***o world he***d hello wo***o world he***d hello wo***o world he***d hello wo***o world he***d hello wo***o world he***d hello wo***o world he***d hello wo***o world he***d hello wo***o world he***d hello wo***o world he***d hello wo***o world he***d hello wo***o world he***d hello wo***o world he***d hello wo***o world he***d hello wo***o world he***d hello wo***o world he***d hello wo***o world he***d hello wo***o world he***d hello wo***o world he***d hello wo***o world he***d hello wo***o world he***d hello wo***o world he***d hello wo***o world he***d hello wo***o world he***d hello wo***o world he***d hello wo***o world he***d hello wo***o world he***d hello wo***o world he***d hello wo***o world he***d hello wo***o world he***d hello wo***o world he***d hello wo***o world he***d hello wo***o world he***d hello wo***o world he***d hello wo***o world he***d hello wo***o world he***d hello wo***o world he***d hello wo***o world he***d hello wo***o world he***d hello wo***o world he***d hello wo***o world he***d hello wo***o world he***d hello wo***o world he***d hello wo***o world he***d hello wo***o world he***d hello wo***o world he***d hello wo***o world he***d hello wo***o world he***d hello wo***o world he***d hello wo***o world he***d hello wo***o world he***d hello wo***o world he***d hello wo***o world he***d hello wo***o world he***d hello wo***o world he***d hello wo***o world he***d hello wo***o world he***d hello wo***o world he***d hello wo***o world he***d hello wo***o world he***d hello wo***o world he***d hello wo***o world he***d hello wo***o world he***d hello wo***o world he***d hello wo***o world he***d hello wo***o world he***d hello wo***o world he***d hello wo***o world he***d hello wo***o world he***d hello wo***o world he***d hello wo***o world he***d hello wo***o world he***d hello wo***o world he***d hello wo***o world he***d hello wo***o world he***d hello wo***o world he***d hello wo***o world he***d hello wo***o world he***d hello wo***o world he***d hello wo***o world he***d hello wo***o world he***d hello wo***o world he***d hello wo***o world he***d hello wo***o world he***d hello wo***o world he***d hello wo***o world he***d hello wo***o world he***d hello wo***o world he***d hello wo***o world he***d hello wo***o world he***"
     ]
    }
   ],
   "source": [
    "with open('big.txt','r') as f:\n",
    "\n",
    "  chunk_size = 10\n",
    "\n",
    "  while len(f.read(chunk_size)) > 0:\n",
    "    print(f.read(chunk_size),end='***')\n",
    "    f.read(chunk_size)"
   ]
  },
  {
   "cell_type": "code",
   "execution_count": null,
   "id": "9aba800e",
   "metadata": {},
   "outputs": [],
   "source": [
    "##########"
   ]
  },
  {
   "cell_type": "code",
   "execution_count": 5,
   "id": "afb2777b",
   "metadata": {
    "ExecuteTime": {
     "end_time": "2022-11-29T08:54:14.422596Z",
     "start_time": "2022-11-29T08:54:14.406616Z"
    }
   },
   "outputs": [
    {
     "name": "stdout",
     "output_type": "stream",
     "text": [
      "are you\n",
      "I \n",
      "26\n",
      "am fine\n",
      "33\n"
     ]
    }
   ],
   "source": [
    "# seek and tell function\n",
    "with open('sample.txt','r') as f:\n",
    "  f.seek(15) # return to 15 character\n",
    "  print(f.read(10))\n",
    "  print(f.tell())\n",
    "  \n",
    "  print(f.read(10))\n",
    "  print(f.tell())"
   ]
  },
  {
   "cell_type": "code",
   "execution_count": null,
   "id": "06b3fd63",
   "metadata": {},
   "outputs": [],
   "source": [
    "################"
   ]
  },
  {
   "cell_type": "code",
   "execution_count": 6,
   "id": "c7b2df27",
   "metadata": {
    "ExecuteTime": {
     "end_time": "2022-11-29T08:56:36.684278Z",
     "start_time": "2022-11-29T08:56:36.664741Z"
    }
   },
   "outputs": [],
   "source": [
    "# seek during write\n",
    "with open('sample.txt','w') as f:\n",
    "  f.write('Hello')\n",
    "  f.seek(0)\n",
    "  f.write('Xa')"
   ]
  },
  {
   "cell_type": "code",
   "execution_count": 7,
   "id": "02fdcf1a",
   "metadata": {
    "ExecuteTime": {
     "end_time": "2022-11-29T08:57:03.992621Z",
     "start_time": "2022-11-29T08:57:03.976642Z"
    }
   },
   "outputs": [],
   "source": [
    "#Problems with working in text mode\n",
    "#can't work with binary files like images\n",
    "#not good for other data types like int/float/list/tuples"
   ]
  },
  {
   "cell_type": "code",
   "execution_count": 8,
   "id": "ef4353d4",
   "metadata": {
    "ExecuteTime": {
     "end_time": "2022-11-29T09:02:56.468108Z",
     "start_time": "2022-11-29T09:02:56.038721Z"
    }
   },
   "outputs": [
    {
     "ename": "UnicodeDecodeError",
     "evalue": "'charmap' codec can't decode byte 0x9d in position 65: character maps to <undefined>",
     "output_type": "error",
     "traceback": [
      "\u001b[1;31m---------------------------------------------------------------------------\u001b[0m",
      "\u001b[1;31mUnicodeDecodeError\u001b[0m                        Traceback (most recent call last)",
      "Cell \u001b[1;32mIn [8], line 3\u001b[0m\n\u001b[0;32m      1\u001b[0m \u001b[38;5;66;03m# working with binary file\u001b[39;00m\n\u001b[0;32m      2\u001b[0m \u001b[38;5;28;01mwith\u001b[39;00m \u001b[38;5;28mopen\u001b[39m(\u001b[38;5;124m'\u001b[39m\u001b[38;5;124mminions.png\u001b[39m\u001b[38;5;124m'\u001b[39m,\u001b[38;5;124m'\u001b[39m\u001b[38;5;124mr\u001b[39m\u001b[38;5;124m'\u001b[39m) \u001b[38;5;28;01mas\u001b[39;00m f:\n\u001b[1;32m----> 3\u001b[0m   \u001b[43mf\u001b[49m\u001b[38;5;241;43m.\u001b[39;49m\u001b[43mread\u001b[49m\u001b[43m(\u001b[49m\u001b[43m)\u001b[49m\n",
      "File \u001b[1;32m~\\AppData\\Local\\Programs\\Python\\Python310\\lib\\encodings\\cp1252.py:23\u001b[0m, in \u001b[0;36mIncrementalDecoder.decode\u001b[1;34m(self, input, final)\u001b[0m\n\u001b[0;32m     22\u001b[0m \u001b[38;5;28;01mdef\u001b[39;00m \u001b[38;5;21mdecode\u001b[39m(\u001b[38;5;28mself\u001b[39m, \u001b[38;5;28minput\u001b[39m, final\u001b[38;5;241m=\u001b[39m\u001b[38;5;28;01mFalse\u001b[39;00m):\n\u001b[1;32m---> 23\u001b[0m     \u001b[38;5;28;01mreturn\u001b[39;00m \u001b[43mcodecs\u001b[49m\u001b[38;5;241;43m.\u001b[39;49m\u001b[43mcharmap_decode\u001b[49m\u001b[43m(\u001b[49m\u001b[38;5;28;43minput\u001b[39;49m\u001b[43m,\u001b[49m\u001b[38;5;28;43mself\u001b[39;49m\u001b[38;5;241;43m.\u001b[39;49m\u001b[43merrors\u001b[49m\u001b[43m,\u001b[49m\u001b[43mdecoding_table\u001b[49m\u001b[43m)\u001b[49m[\u001b[38;5;241m0\u001b[39m]\n",
      "\u001b[1;31mUnicodeDecodeError\u001b[0m: 'charmap' codec can't decode byte 0x9d in position 65: character maps to <undefined>"
     ]
    }
   ],
   "source": [
    "# working with binary file\n",
    "with open('minions.png','r') as f:\n",
    "  f.read()"
   ]
  },
  {
   "cell_type": "code",
   "execution_count": 28,
   "id": "e28a38cd",
   "metadata": {
    "ExecuteTime": {
     "end_time": "2022-11-29T07:21:21.585796Z",
     "start_time": "2022-11-29T07:21:21.224947Z"
    }
   },
   "outputs": [],
   "source": [
    "# working with binary file\n",
    "with open('minions.png','rb') as f:\n",
    "  with open('minions_copy.png','wb') as wf: #'wb': write binary mode\n",
    "    wf.write(f.read())               "
   ]
  },
  {
   "cell_type": "code",
   "execution_count": 29,
   "id": "5722127e",
   "metadata": {
    "ExecuteTime": {
     "end_time": "2022-11-29T07:21:42.495559Z",
     "start_time": "2022-11-29T07:21:42.475620Z"
    }
   },
   "outputs": [],
   "source": [
    "# working with a big binary file"
   ]
  },
  {
   "cell_type": "code",
   "execution_count": 30,
   "id": "8ae69d82",
   "metadata": {
    "ExecuteTime": {
     "end_time": "2022-11-29T07:22:05.985521Z",
     "start_time": "2022-11-29T07:22:05.932526Z"
    }
   },
   "outputs": [
    {
     "ename": "TypeError",
     "evalue": "write() argument must be str, not int",
     "output_type": "error",
     "traceback": [
      "\u001b[1;31m---------------------------------------------------------------------------\u001b[0m",
      "\u001b[1;31mTypeError\u001b[0m                                 Traceback (most recent call last)",
      "Cell \u001b[1;32mIn [30], line 3\u001b[0m\n\u001b[0;32m      1\u001b[0m \u001b[38;5;66;03m# working with other data types\u001b[39;00m\n\u001b[0;32m      2\u001b[0m \u001b[38;5;28;01mwith\u001b[39;00m \u001b[38;5;28mopen\u001b[39m(\u001b[38;5;124m'\u001b[39m\u001b[38;5;124msample.txt\u001b[39m\u001b[38;5;124m'\u001b[39m,\u001b[38;5;124m'\u001b[39m\u001b[38;5;124mw\u001b[39m\u001b[38;5;124m'\u001b[39m) \u001b[38;5;28;01mas\u001b[39;00m f:\n\u001b[1;32m----> 3\u001b[0m   \u001b[43mf\u001b[49m\u001b[38;5;241;43m.\u001b[39;49m\u001b[43mwrite\u001b[49m\u001b[43m(\u001b[49m\u001b[38;5;241;43m5\u001b[39;49m\u001b[43m)\u001b[49m\n",
      "\u001b[1;31mTypeError\u001b[0m: write() argument must be str, not int"
     ]
    }
   ],
   "source": [
    "# working with other data types other text\n",
    "with open('sample.txt','w') as f:\n",
    "  f.write(5)"
   ]
  },
  {
   "cell_type": "code",
   "execution_count": 9,
   "id": "6ea54a10",
   "metadata": {
    "ExecuteTime": {
     "end_time": "2022-11-29T09:05:27.776198Z",
     "start_time": "2022-11-29T09:05:27.747467Z"
    }
   },
   "outputs": [],
   "source": [
    "with open('sample.txt','w') as f:  \n",
    "  f.write('5')                         # it has to be a string"
   ]
  },
  {
   "cell_type": "code",
   "execution_count": 10,
   "id": "5bc69d97",
   "metadata": {
    "ExecuteTime": {
     "end_time": "2022-11-29T09:05:29.748237Z",
     "start_time": "2022-11-29T09:05:29.728270Z"
    }
   },
   "outputs": [
    {
     "name": "stdout",
     "output_type": "stream",
     "text": [
      "10\n"
     ]
    }
   ],
   "source": [
    "with open('sample.txt','r') as f:\n",
    "  print(int(f.read()) + 5)"
   ]
  },
  {
   "cell_type": "code",
   "execution_count": 11,
   "id": "174a4803",
   "metadata": {
    "ExecuteTime": {
     "end_time": "2022-11-29T09:07:17.018129Z",
     "start_time": "2022-11-29T09:07:17.005291Z"
    }
   },
   "outputs": [],
   "source": [
    "# more complex data\n",
    "d = {\n",
    "    'name':'nitish',\n",
    "     'age':33,\n",
    "     'gender':'male'\n",
    "}\n",
    "\n",
    "with open('sample.txt','w') as f:\n",
    "  f.write(str(d))"
   ]
  },
  {
   "cell_type": "code",
   "execution_count": 13,
   "id": "ed8e8a78",
   "metadata": {
    "ExecuteTime": {
     "end_time": "2022-11-29T09:09:30.665377Z",
     "start_time": "2022-11-29T09:09:30.653365Z"
    }
   },
   "outputs": [
    {
     "name": "stdout",
     "output_type": "stream",
     "text": [
      "{'name': 'nitish', 'age': 33, 'gender': 'male'}\n"
     ]
    }
   ],
   "source": [
    "with open('sample.txt','r') as f:\n",
    "  print(f.read())"
   ]
  },
  {
   "cell_type": "code",
   "execution_count": 14,
   "id": "ca7bf435",
   "metadata": {
    "ExecuteTime": {
     "end_time": "2022-11-29T09:09:34.887807Z",
     "start_time": "2022-11-29T09:09:34.827227Z"
    }
   },
   "outputs": [
    {
     "ename": "ValueError",
     "evalue": "dictionary update sequence element #0 has length 1; 2 is required",
     "output_type": "error",
     "traceback": [
      "\u001b[1;31m---------------------------------------------------------------------------\u001b[0m",
      "\u001b[1;31mValueError\u001b[0m                                Traceback (most recent call last)",
      "Cell \u001b[1;32mIn [14], line 2\u001b[0m\n\u001b[0;32m      1\u001b[0m \u001b[38;5;28;01mwith\u001b[39;00m \u001b[38;5;28mopen\u001b[39m(\u001b[38;5;124m'\u001b[39m\u001b[38;5;124msample.txt\u001b[39m\u001b[38;5;124m'\u001b[39m,\u001b[38;5;124m'\u001b[39m\u001b[38;5;124mr\u001b[39m\u001b[38;5;124m'\u001b[39m) \u001b[38;5;28;01mas\u001b[39;00m f:\n\u001b[1;32m----> 2\u001b[0m   \u001b[38;5;28mprint\u001b[39m(\u001b[38;5;28;43mdict\u001b[39;49m\u001b[43m(\u001b[49m\u001b[43mf\u001b[49m\u001b[38;5;241;43m.\u001b[39;49m\u001b[43mread\u001b[49m\u001b[43m(\u001b[49m\u001b[43m)\u001b[49m\u001b[43m)\u001b[49m)\n",
      "\u001b[1;31mValueError\u001b[0m: dictionary update sequence element #0 has length 1; 2 is required"
     ]
    }
   ],
   "source": [
    "with open('sample.txt','r') as f:\n",
    "  print(dict(f.read()))      #cannot covert into dictionary"
   ]
  },
  {
   "cell_type": "code",
   "execution_count": 16,
   "id": "476ea8bf",
   "metadata": {
    "ExecuteTime": {
     "end_time": "2022-11-29T09:11:42.867775Z",
     "start_time": "2022-11-29T09:11:42.857706Z"
    }
   },
   "outputs": [],
   "source": [
    "#Serialization and Deserialization\n",
    "#Serialization - process of converting python data types to JSON format\n",
    "#Deserialization - process of converting JSON to python data types"
   ]
  },
  {
   "cell_type": "code",
   "execution_count": 17,
   "id": "bcd63ea4",
   "metadata": {
    "ExecuteTime": {
     "end_time": "2022-11-29T09:25:36.346772Z",
     "start_time": "2022-11-29T09:25:36.326760Z"
    },
    "scrolled": true
   },
   "outputs": [
    {
     "ename": "SyntaxError",
     "evalue": "invalid syntax. Perhaps you forgot a comma? (3923258830.py, line 2)",
     "output_type": "error",
     "traceback": [
      "\u001b[1;36m  Cell \u001b[1;32mIn [17], line 2\u001b[1;36m\u001b[0m\n\u001b[1;33m    \"d\"{\u001b[0m\n\u001b[1;37m    ^\u001b[0m\n\u001b[1;31mSyntaxError\u001b[0m\u001b[1;31m:\u001b[0m invalid syntax. Perhaps you forgot a comma?\n"
     ]
    }
   ],
   "source": [
    "{\n",
    "    \"d\"{\n",
    "        \"results\":[\n",
    "            {\n",
    "                \"__metadata\":{\n",
    "                    \"type\":\"EmployeementDetails.Employee\"\n",
    "                },\n",
    "                \"UserID\":\"E234\",\n",
    "                \"Referalcode\":\"35\"\n",
    "            }\n",
    "        ]\n",
    "    }\n",
    "}"
   ]
  },
  {
   "cell_type": "code",
   "execution_count": 18,
   "id": "225d6d3a",
   "metadata": {
    "ExecuteTime": {
     "end_time": "2022-11-29T09:26:15.456976Z",
     "start_time": "2022-11-29T09:26:15.444303Z"
    }
   },
   "outputs": [],
   "source": [
    "import  json"
   ]
  },
  {
   "cell_type": "code",
   "execution_count": 20,
   "id": "966aad96",
   "metadata": {
    "ExecuteTime": {
     "end_time": "2022-11-29T09:27:21.976560Z",
     "start_time": "2022-11-29T09:27:21.965771Z"
    }
   },
   "outputs": [],
   "source": [
    "# serialization using json module\n",
    "# list\n",
    "import json\n",
    "\n",
    "L = [1,2,3,4]\n",
    "\n",
    "with open('demo.json','w') as f:\n",
    "  json.dump(L,f)\n",
    "# converting list into json"
   ]
  },
  {
   "cell_type": "code",
   "execution_count": 32,
   "id": "c7fada08",
   "metadata": {
    "ExecuteTime": {
     "end_time": "2022-11-29T09:37:23.347489Z",
     "start_time": "2022-11-29T09:37:23.341495Z"
    }
   },
   "outputs": [],
   "source": [
    "t=(1,2,3)\n",
    "s=('a','b','c')"
   ]
  },
  {
   "cell_type": "code",
   "execution_count": 31,
   "id": "7ada0a9a",
   "metadata": {
    "ExecuteTime": {
     "end_time": "2022-11-29T09:36:51.420989Z",
     "start_time": "2022-11-29T09:36:51.392006Z"
    }
   },
   "outputs": [
    {
     "data": {
      "text/plain": [
       "[1, 2, 3]"
      ]
     },
     "execution_count": 31,
     "metadata": {},
     "output_type": "execute_result"
    }
   ],
   "source": [
    "list(t)"
   ]
  },
  {
   "cell_type": "code",
   "execution_count": 21,
   "id": "b9e3c223",
   "metadata": {
    "ExecuteTime": {
     "end_time": "2022-11-29T09:27:56.986647Z",
     "start_time": "2022-11-29T09:27:56.966511Z"
    }
   },
   "outputs": [],
   "source": [
    "# dict\n",
    "d = {\n",
    "    'name':'nitish',\n",
    "     'age':33,\n",
    "     'gender':'male'\n",
    "}\n",
    "\n",
    "with open('demo.json','w') as f:\n",
    "  json.dump(d,f,indent=4) # indent is for formating\n",
    "#converting dictionary into json"
   ]
  },
  {
   "cell_type": "code",
   "execution_count": 22,
   "id": "d911584b",
   "metadata": {
    "ExecuteTime": {
     "end_time": "2022-11-29T09:29:28.571339Z",
     "start_time": "2022-11-29T09:29:28.546458Z"
    }
   },
   "outputs": [
    {
     "name": "stdout",
     "output_type": "stream",
     "text": [
      "{'name': 'nitish', 'age': 33, 'gender': 'male'}\n",
      "<class 'dict'>\n"
     ]
    }
   ],
   "source": [
    "# deserialization\n",
    "import json\n",
    "\n",
    "with open('demo.json','r') as f:\n",
    "  d = json.load(f)\n",
    "  print(d)\n",
    "  print(type(d))\n",
    "#jhon file to dictionary"
   ]
  },
  {
   "cell_type": "code",
   "execution_count": 23,
   "id": "b3f43922",
   "metadata": {
    "ExecuteTime": {
     "end_time": "2022-11-29T09:30:18.255847Z",
     "start_time": "2022-11-29T09:30:18.246322Z"
    }
   },
   "outputs": [],
   "source": [
    "# serialize and deserialize tuple\n",
    "import json\n",
    "\n",
    "t = (1,2,3,4,5)\n",
    "\n",
    "with open('demo.json','w') as f:\n",
    "  json.dump(t,f)"
   ]
  },
  {
   "cell_type": "code",
   "execution_count": 24,
   "id": "0e9faea5",
   "metadata": {
    "ExecuteTime": {
     "end_time": "2022-11-29T09:31:05.734355Z",
     "start_time": "2022-11-29T09:31:05.721361Z"
    }
   },
   "outputs": [],
   "source": [
    "# serialize and deserialize a nested dict\n",
    "\n",
    "d = {\n",
    "    'student':'nitish',\n",
    "     'marks':[23,14,34,45,56]\n",
    "}\n",
    "\n",
    "with open('demo.json','w') as f:\n",
    "  json.dump(d,f)"
   ]
  },
  {
   "cell_type": "code",
   "execution_count": 25,
   "id": "fcf97636",
   "metadata": {
    "ExecuteTime": {
     "end_time": "2022-11-29T09:31:32.207780Z",
     "start_time": "2022-11-29T09:31:32.198787Z"
    }
   },
   "outputs": [],
   "source": [
    "#Serializing and Deserializing custom objects"
   ]
  },
  {
   "cell_type": "code",
   "execution_count": 34,
   "id": "5635f014",
   "metadata": {
    "ExecuteTime": {
     "end_time": "2022-11-29T09:42:52.089725Z",
     "start_time": "2022-11-29T09:42:52.071740Z"
    }
   },
   "outputs": [],
   "source": [
    "class Person:\n",
    "\n",
    "  def __init__(self,fname,lname,age,gender):\n",
    "    self.fname = fname\n",
    "    self.lname = lname\n",
    "    self.age = age\n",
    "    self.gender = gender\n",
    "\n",
    "# format to printed in\n",
    "# -> Nitish Singh age -> 33 gender -> mal"
   ]
  },
  {
   "cell_type": "code",
   "execution_count": 35,
   "id": "9a78e546",
   "metadata": {
    "ExecuteTime": {
     "end_time": "2022-11-29T09:42:54.609979Z",
     "start_time": "2022-11-29T09:42:54.589988Z"
    }
   },
   "outputs": [],
   "source": [
    "person = Person('Nitish','Singh',33,'male')"
   ]
  },
  {
   "cell_type": "code",
   "execution_count": 36,
   "id": "63679f19",
   "metadata": {
    "ExecuteTime": {
     "end_time": "2022-11-29T09:42:55.796980Z",
     "start_time": "2022-11-29T09:42:55.781989Z"
    }
   },
   "outputs": [],
   "source": [
    "# As a string\n",
    "import json\n",
    "\n",
    "def show_object(person):\n",
    "  if isinstance(person,Person):\n",
    "    return \"{} {} age -> {} gender -> {}\".format(person.fname,person.lname,person.age,person.gender)\n",
    "\n",
    "with open('demo.json','w') as f:\n",
    "  json.dump(person,f,default=show_object)"
   ]
  },
  {
   "cell_type": "code",
   "execution_count": 37,
   "id": "9716b6d2",
   "metadata": {
    "ExecuteTime": {
     "end_time": "2022-11-29T09:43:04.153747Z",
     "start_time": "2022-11-29T09:43:04.143755Z"
    }
   },
   "outputs": [],
   "source": [
    "# As a dict\n",
    "import json\n",
    "\n",
    "def show_object(person):\n",
    "  if isinstance(person,Person):\n",
    "    return {'name':person.fname + ' ' + person.lname,'age':person.age,'gender':person.gender}\n",
    "\n",
    "with open('demo.json','w') as f:\n",
    "  json.dump(person,f,default=show_object,indent=4)"
   ]
  },
  {
   "cell_type": "code",
   "execution_count": 38,
   "id": "a714f20c",
   "metadata": {
    "ExecuteTime": {
     "end_time": "2022-11-29T09:44:01.655119Z",
     "start_time": "2022-11-29T09:44:01.639109Z"
    }
   },
   "outputs": [
    {
     "name": "stdout",
     "output_type": "stream",
     "text": [
      "{'name': 'Nitish Singh', 'age': 33, 'gender': 'male'}\n",
      "<class 'dict'>\n"
     ]
    }
   ],
   "source": [
    "# deserializing\n",
    "import json\n",
    "\n",
    "with open('demo.json','r') as f:\n",
    "  d = json.load(f)\n",
    "  print(d)\n",
    "  print(type(d))"
   ]
  },
  {
   "cell_type": "code",
   "execution_count": 39,
   "id": "cb7318cd",
   "metadata": {
    "ExecuteTime": {
     "end_time": "2022-11-29T09:46:06.355667Z",
     "start_time": "2022-11-29T09:46:06.341678Z"
    }
   },
   "outputs": [],
   "source": [
    "#Pickling\n",
    "#Pickling is the process whereby a Python object hierarchy is converted into a byte stream, \n",
    "#and unpickling is the inverse operation, \n",
    "#whereby a byte stream (from a binary file or bytes-like object) is converted back into an object hierarchy."
   ]
  },
  {
   "cell_type": "code",
   "execution_count": 46,
   "id": "836079c1",
   "metadata": {
    "ExecuteTime": {
     "end_time": "2022-11-29T09:55:44.538715Z",
     "start_time": "2022-11-29T09:55:44.517747Z"
    }
   },
   "outputs": [],
   "source": [
    "class Person:\n",
    "\n",
    "  def __init__(self,name,age):\n",
    "    self.name = name\n",
    "    self.age = age\n",
    "\n",
    "  def display_info(self):\n",
    "    print('Hi my name is',self.name,'and I am ',self.age,'years old')"
   ]
  },
  {
   "cell_type": "code",
   "execution_count": 47,
   "id": "8374a27c",
   "metadata": {
    "ExecuteTime": {
     "end_time": "2022-11-29T09:55:46.567524Z",
     "start_time": "2022-11-29T09:55:46.557511Z"
    }
   },
   "outputs": [],
   "source": [
    "p = Person('nitish',33)"
   ]
  },
  {
   "cell_type": "code",
   "execution_count": 54,
   "id": "16eb2559",
   "metadata": {
    "ExecuteTime": {
     "end_time": "2022-11-29T10:01:20.625182Z",
     "start_time": "2022-11-29T10:01:20.614201Z"
    }
   },
   "outputs": [],
   "source": [
    "#import sys\n",
    "#reload(sys)\n",
    "#sys.setdefaultencoding()"
   ]
  },
  {
   "cell_type": "code",
   "execution_count": 51,
   "id": "93bf1413",
   "metadata": {
    "ExecuteTime": {
     "end_time": "2022-11-29T09:58:38.077437Z",
     "start_time": "2022-11-29T09:58:38.062446Z"
    }
   },
   "outputs": [],
   "source": [
    "# pickle dump\n",
    "import pickle\n",
    "with open('person.pkl','wb') as f:\n",
    "  pickle.dump(p,f)"
   ]
  },
  {
   "cell_type": "code",
   "execution_count": 49,
   "id": "f0a3cf13",
   "metadata": {
    "ExecuteTime": {
     "end_time": "2022-11-29T09:55:50.866395Z",
     "start_time": "2022-11-29T09:55:50.844405Z"
    }
   },
   "outputs": [
    {
     "name": "stdout",
     "output_type": "stream",
     "text": [
      "Hi my name is nitish and I am  33 years old\n"
     ]
    }
   ],
   "source": [
    "# pickle load\n",
    "import pickle\n",
    "with open('person.pkl','rb') as f: # read binary mode\n",
    "  p = pickle.load(f)\n",
    "\n",
    "p.display_info()"
   ]
  },
  {
   "cell_type": "code",
   "execution_count": null,
   "id": "6792ec1c",
   "metadata": {},
   "outputs": [],
   "source": [
    "#Pickle Vs Json\n",
    "#Pickle lets the user to store data in binary format. JSON lets the user store data in a human-readable text format."
   ]
  },
  {
   "cell_type": "code",
   "execution_count": null,
   "id": "562af236",
   "metadata": {},
   "outputs": [],
   "source": []
  },
  {
   "cell_type": "code",
   "execution_count": null,
   "id": "035d96b9",
   "metadata": {},
   "outputs": [],
   "source": []
  },
  {
   "cell_type": "code",
   "execution_count": null,
   "id": "bbb990c7",
   "metadata": {},
   "outputs": [],
   "source": []
  },
  {
   "cell_type": "code",
   "execution_count": null,
   "id": "13ade669",
   "metadata": {},
   "outputs": [],
   "source": []
  },
  {
   "cell_type": "code",
   "execution_count": null,
   "id": "d891970f",
   "metadata": {},
   "outputs": [],
   "source": []
  },
  {
   "cell_type": "code",
   "execution_count": null,
   "id": "9677b70f",
   "metadata": {},
   "outputs": [],
   "source": []
  },
  {
   "cell_type": "code",
   "execution_count": null,
   "id": "16d92df2",
   "metadata": {},
   "outputs": [],
   "source": []
  },
  {
   "cell_type": "code",
   "execution_count": null,
   "id": "fcfb2b44",
   "metadata": {},
   "outputs": [],
   "source": []
  },
  {
   "cell_type": "code",
   "execution_count": null,
   "id": "40826c96",
   "metadata": {},
   "outputs": [],
   "source": []
  },
  {
   "cell_type": "code",
   "execution_count": null,
   "id": "d8443089",
   "metadata": {},
   "outputs": [],
   "source": []
  },
  {
   "cell_type": "code",
   "execution_count": null,
   "id": "555c18a8",
   "metadata": {},
   "outputs": [],
   "source": []
  },
  {
   "cell_type": "code",
   "execution_count": null,
   "id": "c1627dfb",
   "metadata": {},
   "outputs": [],
   "source": []
  },
  {
   "cell_type": "code",
   "execution_count": null,
   "id": "f741e597",
   "metadata": {},
   "outputs": [],
   "source": []
  },
  {
   "cell_type": "code",
   "execution_count": null,
   "id": "cbdb56eb",
   "metadata": {},
   "outputs": [],
   "source": []
  },
  {
   "cell_type": "code",
   "execution_count": null,
   "id": "226d7dea",
   "metadata": {},
   "outputs": [],
   "source": []
  },
  {
   "cell_type": "code",
   "execution_count": null,
   "id": "eb57cb39",
   "metadata": {},
   "outputs": [],
   "source": []
  },
  {
   "cell_type": "code",
   "execution_count": null,
   "id": "76272c66",
   "metadata": {},
   "outputs": [],
   "source": []
  },
  {
   "cell_type": "code",
   "execution_count": null,
   "id": "b9ababd8",
   "metadata": {},
   "outputs": [],
   "source": []
  },
  {
   "cell_type": "code",
   "execution_count": null,
   "id": "23257da7",
   "metadata": {},
   "outputs": [],
   "source": []
  },
  {
   "cell_type": "code",
   "execution_count": null,
   "id": "9efefdf7",
   "metadata": {},
   "outputs": [],
   "source": []
  },
  {
   "cell_type": "code",
   "execution_count": null,
   "id": "e9bf7629",
   "metadata": {},
   "outputs": [],
   "source": []
  },
  {
   "cell_type": "code",
   "execution_count": null,
   "id": "57a126bd",
   "metadata": {},
   "outputs": [],
   "source": []
  }
 ],
 "metadata": {
  "kernelspec": {
   "display_name": "Python 3 (ipykernel)",
   "language": "python",
   "name": "python3"
  },
  "language_info": {
   "codemirror_mode": {
    "name": "ipython",
    "version": 3
   },
   "file_extension": ".py",
   "mimetype": "text/x-python",
   "name": "python",
   "nbconvert_exporter": "python",
   "pygments_lexer": "ipython3",
   "version": "3.10.6"
  }
 },
 "nbformat": 4,
 "nbformat_minor": 5
}
