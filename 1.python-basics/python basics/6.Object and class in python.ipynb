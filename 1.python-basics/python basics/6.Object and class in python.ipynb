{
 "cells": [
  {
   "cell_type": "code",
   "execution_count": 6,
   "id": "e456480d",
   "metadata": {},
   "outputs": [],
   "source": [
    "####  Object is different fron procedural update\n",
    "## list object no attribute upper\n",
    "## string object no attribute called append"
   ]
  },
  {
   "cell_type": "code",
   "execution_count": null,
   "id": "26aa9d81",
   "metadata": {},
   "outputs": [],
   "source": [
    "### Principle of OOP\n",
    "# Class\n",
    "# Object\n",
    "# Abstraction\n",
    "# Inheritance\n",
    "# Encapsulation\n",
    "# Polymophisms"
   ]
  },
  {
   "cell_type": "code",
   "execution_count": 9,
   "id": "d7dd9cf5",
   "metadata": {},
   "outputs": [
    {
     "name": "stdout",
     "output_type": "stream",
     "text": [
      "<class 'list'>\n"
     ]
    }
   ],
   "source": [
    "### Class is a blueprint\n",
    "# list, int, tuple etc are inbuilt class\n",
    "l=[1,2,3] # l is object\n",
    "print(type(l))"
   ]
  },
  {
   "cell_type": "code",
   "execution_count": 11,
   "id": "c7d1a1fa",
   "metadata": {},
   "outputs": [],
   "source": [
    "# Class is rule defined for object\n",
    "# object is data type\n",
    "# type of classes builtin classes and user define classes"
   ]
  },
  {
   "cell_type": "code",
   "execution_count": 10,
   "id": "1b4909bc",
   "metadata": {},
   "outputs": [],
   "source": [
    "### Parts of Class are\n",
    "# Data or Properties\n",
    "# Functions or behaviours\n",
    "\n",
    "####\n",
    "# class Car:\n",
    "#   color='blue'  #data\n",
    "#   model='Sports'  # data\n",
    "# def speed(km,time):\n",
    "    #code"
   ]
  },
  {
   "cell_type": "code",
   "execution_count": 16,
   "id": "ef9faff0",
   "metadata": {},
   "outputs": [
    {
     "data": {
      "text/plain": [
       "''"
      ]
     },
     "execution_count": 16,
     "metadata": {},
     "output_type": "execute_result"
    }
   ],
   "source": [
    "# syntax to create a class\n",
    "# object_name = class_name()\n",
    "s = str()\n",
    "s"
   ]
  },
  {
   "cell_type": "code",
   "execution_count": 17,
   "id": "ed56e08c",
   "metadata": {},
   "outputs": [],
   "source": [
    "# define class in pascal case\n",
    "# e.g. HelloWorld \n",
    "#e.g. MyAtm"
   ]
  },
  {
   "cell_type": "code",
   "execution_count": null,
   "id": "3a3a3249",
   "metadata": {},
   "outputs": [],
   "source": [
    "# constructor\n",
    "# def __int__(self):"
   ]
  },
  {
   "cell_type": "code",
   "execution_count": 18,
   "id": "6dcde9e6",
   "metadata": {},
   "outputs": [],
   "source": [
    "class Atm:\n",
    "    #constructor\n",
    "    def __int__(self):\n",
    "        self.pin=''\n",
    "        seelf.balance=0\n",
    "        "
   ]
  },
  {
   "cell_type": "code",
   "execution_count": 19,
   "id": "01612adc",
   "metadata": {},
   "outputs": [],
   "source": [
    "obj = Atm()"
   ]
  },
  {
   "cell_type": "code",
   "execution_count": 20,
   "id": "750049b0",
   "metadata": {},
   "outputs": [
    {
     "name": "stdout",
     "output_type": "stream",
     "text": [
      "<__main__.Atm object at 0x000002B07B62E2F0>\n"
     ]
    }
   ],
   "source": [
    "print(obj)"
   ]
  },
  {
   "cell_type": "code",
   "execution_count": null,
   "id": "f26c8276",
   "metadata": {},
   "outputs": [],
   "source": [
    "# constructor is a function it called its inside itself when executed"
   ]
  },
  {
   "cell_type": "code",
   "execution_count": 2,
   "id": "8e07b695",
   "metadata": {},
   "outputs": [],
   "source": [
    "class atm:\n",
    "\n",
    "  # constructor(special function)->superpower -> \n",
    "  def __init__(self):\n",
    "    print(id(self))\n",
    "    self.pin = ''\n",
    "    self.balance = 0\n",
    "    #self.menu()\n",
    "\n",
    "  def menu(self):\n",
    "    user_input = input(\"\"\"\n",
    "    Hi how can I help you?\n",
    "    1. Press 1 to create pin\n",
    "    2. Press 2 to change pin\n",
    "    3. Press 3 to check balance\n",
    "    4. Press 4 to withdraw\n",
    "    5. Anything else to exit\n",
    "    \"\"\")\n",
    "\n",
    "    if user_input == '1':\n",
    "      self.create_pin()\n",
    "    elif user_input == '2':\n",
    "      self.change_pin()\n",
    "    elif user_input == '3':\n",
    "      self.check_balance()\n",
    "    elif user_input == '4':\n",
    "      self.withdraw()\n",
    "    else:\n",
    "        pass  \n",
    "    exit()\n",
    "\n",
    "  def create_pin(self):\n",
    "    user_pin = input('enter your pin')\n",
    "    self.pin = user_pin\n",
    "\n",
    "    user_balance = int(input('enter balance'))\n",
    "    self.balance = user_balance\n",
    "\n",
    "    print('pin created successfully')\n",
    "    self.menu()\n",
    "\n",
    "  def change_pin():\n",
    "    old_pin = input('enter old pin')\n",
    "\n",
    "    if old_pin == self.pin:\n",
    "      # let him change the pin\n",
    "      new_pin = input('enter new pin')\n",
    "      self.pin = new_pin\n",
    "      print('pin change successful')\n",
    "      self.menu()\n",
    "    else:\n",
    "      print('nai karne de sakta re baba')\n",
    "      self.menu()\n",
    "\n",
    "  def check_balance(self):\n",
    "    user_pin = input('enter your pin')\n",
    "    if user_pin == self.pin:\n",
    "      print('your balance is ',self.balance)\n",
    "    else:\n",
    "      print('chal nikal yahan se')\n",
    "    self.menu()\n",
    "\n",
    "  def withdraw(self):\n",
    "    user_pin = input('enter the pin')\n",
    "    if user_pin == self.pin:\n",
    "      # allow to withdraw\n",
    "      amount = int(input('enter the amount'))\n",
    "      if amount <= self.balance:\n",
    "        self.balance = self.balance - amount\n",
    "        print('withdrawl successful.balance is',self.balance)\n",
    "      else:\n",
    "        print('abe garib')\n",
    "    else:\n",
    "      print('sale chor')\n",
    "    self.menu()\n",
    "\n",
    "\n",
    "  "
   ]
  },
  {
   "cell_type": "code",
   "execution_count": 3,
   "id": "aa5170ce",
   "metadata": {},
   "outputs": [
    {
     "name": "stdout",
     "output_type": "stream",
     "text": [
      "2433770091472\n"
     ]
    }
   ],
   "source": [
    "obj = atm()"
   ]
  },
  {
   "cell_type": "code",
   "execution_count": 4,
   "id": "c3b2d5ea",
   "metadata": {},
   "outputs": [
    {
     "name": "stdout",
     "output_type": "stream",
     "text": [
      "enter your pin1234\n",
      "enter balance5900\n",
      "pin created successfully\n",
      "\n",
      "    Hi how can I help you?\n",
      "    1. Press 1 to create pin\n",
      "    2. Press 2 to change pin\n",
      "    3. Press 3 to check balance\n",
      "    4. Press 4 to withdraw\n",
      "    5. Anything else to exit\n",
      "    5\n"
     ]
    }
   ],
   "source": [
    "obj.create_pin()"
   ]
  },
  {
   "cell_type": "code",
   "execution_count": 9,
   "id": "bdc1fb11",
   "metadata": {},
   "outputs": [],
   "source": [
    "class Fraction:\n",
    "\n",
    "  # parameterized constructor\n",
    "  def __init__(self,x,y):\n",
    "    self.num = x\n",
    "    self.den = y\n",
    "\n",
    "  def __str__(self):\n",
    "    return '{}/{}'.format(self.num,self.den)\n",
    "\n",
    "  def __add__(self,other):\n",
    "    new_num = self.num*other.den + other.num*self.den\n",
    "    new_den = self.den*other.den\n",
    "\n",
    "    return '{}/{}'.format(new_num,new_den)\n",
    "\n",
    "  def __sub__(self,other):\n",
    "    new_num = self.num*other.den - other.num*self.den\n",
    "    new_den = self.den*other.den\n",
    "\n",
    "    return '{}/{}'.format(new_num,new_den)\n",
    "\n",
    "  def __mul__(self,other):\n",
    "    new_num = self.num*other.num\n",
    "    new_den = self.den*other.den\n",
    "\n",
    "    return '{}/{}'.format(new_num,new_den)\n",
    "\n",
    "  def __truediv__(self,other):\n",
    "    new_num = self.num*other.den\n",
    "    new_den = self.den*other.num\n",
    "\n",
    "    return '{}/{}'.format(new_num,new_den)\n",
    "\n",
    "  def convert_to_decimal(self):\n",
    "    return self.num/self.den"
   ]
  },
  {
   "cell_type": "code",
   "execution_count": 10,
   "id": "efd1d064",
   "metadata": {},
   "outputs": [],
   "source": [
    "fr1 = Fraction(3,4)\n",
    "fr2 = Fraction(1,2)"
   ]
  },
  {
   "cell_type": "code",
   "execution_count": 11,
   "id": "bcf5b2c1",
   "metadata": {},
   "outputs": [
    {
     "data": {
      "text/plain": [
       "0.75"
      ]
     },
     "execution_count": 11,
     "metadata": {},
     "output_type": "execute_result"
    }
   ],
   "source": [
    "fr1.convert_to_decimal()"
   ]
  },
  {
   "cell_type": "code",
   "execution_count": 12,
   "id": "2db7f794",
   "metadata": {},
   "outputs": [
    {
     "name": "stdout",
     "output_type": "stream",
     "text": [
      "10/8\n",
      "2/8\n",
      "3/8\n",
      "6/4\n"
     ]
    }
   ],
   "source": [
    "print(fr1 + fr2)\n",
    "print(fr1 - fr2)\n",
    "print(fr1 * fr2)\n",
    "print(fr1 / fr2)"
   ]
  },
  {
   "cell_type": "code",
   "execution_count": 1,
   "id": "e1335551",
   "metadata": {},
   "outputs": [],
   "source": [
    "# Encapsulation and Static Keyword"
   ]
  },
  {
   "cell_type": "code",
   "execution_count": 33,
   "id": "2805745a",
   "metadata": {},
   "outputs": [],
   "source": [
    "class Point:\n",
    "\n",
    "  def __init__(self,x,y):\n",
    "    self.x_cod = x\n",
    "    self.y_cod = y\n",
    "\n",
    "  def __str__(self):\n",
    "    return '<{},{}>'.format(self.x_cod,self.y_cod)\n",
    "\n",
    "  def euclidean_distance(self,other):\n",
    "    return ((self.x_cod - other.x_cod)**2 + (self.y_cod - other.y_cod)**2)**0.5\n",
    "\n",
    "  def distance_from_origin(self):\n",
    "    return (self.x_cod**2 + self.y_cod**2)**0.5\n",
    "    # return self.euclidean_distance(Point(0,0))\n",
    "\n",
    "\n",
    "class Line:\n",
    "\n",
    "  def __init__(self,A,B,C):\n",
    "    self.A = A\n",
    "    self.B = B\n",
    "    self.C = C\n",
    "\n",
    "  def __str__(self):\n",
    "    if (self.B>=0):\n",
    "         return '{}x + {}y + {} = 0'.format(self.A,self.B,self.C)\n",
    "    if (self.B<=0):\n",
    "         return '{}x  {}y + {} = 0'.format(self.A,self.B,self.C)\n",
    "    if (self.C>=0):\n",
    "         return '{}x + {}y + {} = 0'.format(self.A,self.B,self.C)\n",
    "    if (self.C<=0):\n",
    "         return '{}x + {}y - {} = 0'.format(self.A,self.B,self.C)\n",
    "    else:\n",
    "        return '{}x  {}y  {} = 0'.format(self.A,self.B,self.C)   \n",
    "\n",
    "  def point_on_line(line,point):\n",
    "    if line.A*point.x_cod + line.B*point.y_cod + line.C == 0:\n",
    "      return \"lies on the line\"\n",
    "    else:\n",
    "      return \"does not lie on the line\"\n",
    "\n",
    "  def shortest_distance(line,point):\n",
    "    return abs(line.A*point.x_cod + line.B*point.y_cod + line.C)/(line.A**2 + line.B**2)**0.5\n"
   ]
  },
  {
   "cell_type": "code",
   "execution_count": 37,
   "id": "e2758ccb",
   "metadata": {},
   "outputs": [
    {
     "name": "stdout",
     "output_type": "stream",
     "text": [
      "1x  -1y + 6 = 0\n",
      "<1,10>\n"
     ]
    },
    {
     "data": {
      "text/plain": [
       "2.1213203435596424"
      ]
     },
     "execution_count": 37,
     "metadata": {},
     "output_type": "execute_result"
    }
   ],
   "source": [
    "l1 = Line(1,-1,6)\n",
    "p1 = Point(1,10)\n",
    "print(l1)\n",
    "print(p1)\n",
    "\n",
    "l1.shortest_distance(p1)"
   ]
  },
  {
   "cell_type": "code",
   "execution_count": null,
   "id": "0fecae33",
   "metadata": {},
   "outputs": [],
   "source": []
  },
  {
   "cell_type": "code",
   "execution_count": 38,
   "id": "edd53015",
   "metadata": {},
   "outputs": [],
   "source": [
    "class Person:\n",
    "\n",
    "  def __init__(self,name_input,country_input):\n",
    "    self.name = name_input\n",
    "    self.country = country_input\n",
    "\n",
    "  def greet(self):\n",
    "    if self.country == 'india':\n",
    "      print('Namaste',self.name)\n",
    "    else:\n",
    "      print('Hello',self.name)"
   ]
  },
  {
   "cell_type": "code",
   "execution_count": 45,
   "id": "cfe5c456",
   "metadata": {},
   "outputs": [
    {
     "name": "stdout",
     "output_type": "stream",
     "text": [
      "<class '__main__.Person'>\n"
     ]
    }
   ],
   "source": [
    "p = Person # p is the refrence varible of the object that had been created\n",
    "print(p)"
   ]
  },
  {
   "cell_type": "code",
   "execution_count": 49,
   "id": "d98364fb",
   "metadata": {},
   "outputs": [
    {
     "data": {
      "text/plain": [
       "'nitish'"
      ]
     },
     "execution_count": 49,
     "metadata": {},
     "output_type": "execute_result"
    }
   ],
   "source": [
    "# how to access attributes\n",
    "p = Person('nitish','india')\n",
    "p.name"
   ]
  },
  {
   "cell_type": "code",
   "execution_count": 53,
   "id": "07acdb5b",
   "metadata": {},
   "outputs": [
    {
     "name": "stdout",
     "output_type": "stream",
     "text": [
      "1450967147104\n",
      "1450967147104\n"
     ]
    }
   ],
   "source": [
    "p=q\n",
    "print(id(p))\n",
    "print(id(q))"
   ]
  },
  {
   "cell_type": "code",
   "execution_count": null,
   "id": "8c47d89c",
   "metadata": {},
   "outputs": [],
   "source": []
  },
  {
   "cell_type": "code",
   "execution_count": 52,
   "id": "16ca43d2",
   "metadata": {},
   "outputs": [
    {
     "name": "stdout",
     "output_type": "stream",
     "text": [
      "nitish\n",
      "nitish\n",
      "Ankit\n",
      "Ankit\n"
     ]
    }
   ],
   "source": [
    "print(p.name)\n",
    "print(q.name)\n",
    "q.name=\"Ankit\"\n",
    "print(p.name)\n",
    "print(q.name)"
   ]
  },
  {
   "cell_type": "code",
   "execution_count": null,
   "id": "611f4544",
   "metadata": {},
   "outputs": [],
   "source": []
  },
  {
   "cell_type": "code",
   "execution_count": null,
   "id": "872fa245",
   "metadata": {},
   "outputs": [],
   "source": [
    "# Pass By reference"
   ]
  },
  {
   "cell_type": "code",
   "execution_count": 54,
   "id": "f984456e",
   "metadata": {},
   "outputs": [
    {
     "name": "stdout",
     "output_type": "stream",
     "text": [
      "Hi my name is nitish and I am a male\n",
      "ankit\n",
      "male\n"
     ]
    }
   ],
   "source": [
    "class Person:\n",
    "\n",
    "  def __init__(self,name,gender):\n",
    "    self.name = name\n",
    "    self.gender = gender\n",
    "\n",
    "# outside the class -> function\n",
    "def greet(person):\n",
    "  print('Hi my name is',person.name,'and I am a',person.gender)\n",
    "  p1 = Person('ankit','male')\n",
    "  return p1\n",
    "\n",
    "p = Person('nitish','male')\n",
    "x = greet(p)\n",
    "print(x.name)\n",
    "print(x.gender)"
   ]
  },
  {
   "cell_type": "code",
   "execution_count": 55,
   "id": "2ce0cff3",
   "metadata": {},
   "outputs": [
    {
     "name": "stdout",
     "output_type": "stream",
     "text": [
      "1450956482896\n",
      "1450956482896\n",
      "ankit\n",
      "ankit\n"
     ]
    }
   ],
   "source": [
    "class Person:\n",
    "\n",
    "  def __init__(self,name,gender):\n",
    "    self.name = name\n",
    "    self.gender = gender\n",
    "\n",
    "# outside the class -> function\n",
    "def greet(person):\n",
    "  print(id(person))\n",
    "  person.name = 'ankit'\n",
    "  print(person.name)\n",
    "\n",
    "p = Person('nitish','male')\n",
    "print(id(p))\n",
    "greet(p)\n",
    "print(p.name)"
   ]
  },
  {
   "cell_type": "code",
   "execution_count": 56,
   "id": "b8859576",
   "metadata": {},
   "outputs": [
    {
     "name": "stdout",
     "output_type": "stream",
     "text": [
      "1450958160128\n",
      "1450958160128\n"
     ]
    }
   ],
   "source": [
    "# object mutability\n",
    "class Person:\n",
    "\n",
    "  def __init__(self,name,gender):\n",
    "    self.name = name\n",
    "    self.gender = gender\n",
    "\n",
    "# outside the class -> function\n",
    "def greet(person):\n",
    "  person.name = 'ankit'\n",
    "  return person\n",
    "\n",
    "p = Person('nitish','male')\n",
    "print(id(p))\n",
    "p1 = greet(p)\n",
    "print(id(p1))"
   ]
  },
  {
   "cell_type": "code",
   "execution_count": null,
   "id": "bc2f1c64",
   "metadata": {},
   "outputs": [],
   "source": [
    "#Encapsulation"
   ]
  },
  {
   "cell_type": "code",
   "execution_count": 57,
   "id": "5f8c0dfa",
   "metadata": {},
   "outputs": [],
   "source": [
    "# instance var -> python tutor\n",
    "class Person:\n",
    "\n",
    "  def __init__(self,name_input,country_input):\n",
    "    self.name = name_input\n",
    "    self.country = country_input\n",
    "\n",
    "p1 = Person('nitish','india')\n",
    "p2 = Person('steve','australia')"
   ]
  },
  {
   "cell_type": "code",
   "execution_count": 58,
   "id": "1c533409",
   "metadata": {},
   "outputs": [
    {
     "data": {
      "text/plain": [
       "'steve'"
      ]
     },
     "execution_count": 58,
     "metadata": {},
     "output_type": "execute_result"
    }
   ],
   "source": [
    "p2.name"
   ]
  },
  {
   "cell_type": "code",
   "execution_count": 59,
   "id": "b634ed87",
   "metadata": {},
   "outputs": [],
   "source": [
    "class Atm:\n",
    "\n",
    "  # constructor(special function)->superpower -> \n",
    "  def __init__(self):\n",
    "    print(id(self))\n",
    "    self.pin = ''\n",
    "    self.__balance = 0\n",
    "    #self.menu()\n",
    "\n",
    "  def get_balance(self):\n",
    "    return self.__balance\n",
    "\n",
    "  def set_balance(self,new_value):\n",
    "    if type(new_value) == int:\n",
    "      self.__balance = new_value\n",
    "    else:\n",
    "      print('beta bahot maarenge')\n",
    "\n",
    "  def __menu(self):\n",
    "    user_input = input(\"\"\"\n",
    "    Hi how can I help you?\n",
    "    1. Press 1 to create pin\n",
    "    2. Press 2 to change pin\n",
    "    3. Press 3 to check balance\n",
    "    4. Press 4 to withdraw\n",
    "    5. Anything else to exit\n",
    "    \"\"\")\n",
    "\n",
    "    if user_input == '1':\n",
    "      self.create_pin()\n",
    "    elif user_input == '2':\n",
    "      self.change_pin()\n",
    "    elif user_input == '3':\n",
    "      self.check_balance()\n",
    "    elif user_input == '4':\n",
    "      self.withdraw()\n",
    "    else:\n",
    "      exit()\n",
    "\n",
    "  def create_pin(self):\n",
    "    user_pin = input('enter your pin')\n",
    "    self.pin = user_pin\n",
    "\n",
    "    user_balance = int(input('enter balance')) ##double under score for privates\n",
    "    self.__balance = user_balance\n",
    "\n",
    "    print('pin created successfully')\n",
    "\n",
    "  def change_pin(self):\n",
    "    old_pin = input('enter old pin')\n",
    "\n",
    "    if old_pin == self.pin:\n",
    "      # let him change the pin\n",
    "      new_pin = input('enter new pin')\n",
    "      self.pin = new_pin\n",
    "      print('pin change successful')\n",
    "    else:\n",
    "      print('nai karne de sakta re baba')\n",
    "\n",
    "  def check_balance(self):\n",
    "    user_pin = input('enter your pin')\n",
    "    if user_pin == self.pin:\n",
    "      print('your balance is ',self.__balance)\n",
    "    else:\n",
    "      print('chal nikal yahan se')\n",
    "\n",
    "  def withdraw(self):\n",
    "    user_pin = input('enter the pin')\n",
    "    if user_pin == self.pin:\n",
    "      # allow to withdraw\n",
    "      amount = int(input('enter the amount'))\n",
    "      if amount <= self.__balance:\n",
    "        self.__balance = self.__balance - amount\n",
    "        print('withdrawl successful.balance is',self.__balance)\n",
    "      else:\n",
    "        print('abe garib')\n",
    "    else:\n",
    "      print('sale chor')"
   ]
  },
  {
   "cell_type": "code",
   "execution_count": null,
   "id": "36053ee3",
   "metadata": {},
   "outputs": [],
   "source": [
    "#### get is gatter\n",
    "### set is setter"
   ]
  },
  {
   "cell_type": "code",
   "execution_count": null,
   "id": "59ee829c",
   "metadata": {},
   "outputs": [],
   "source": []
  },
  {
   "cell_type": "code",
   "execution_count": 60,
   "id": "17a793d5",
   "metadata": {},
   "outputs": [
    {
     "name": "stdout",
     "output_type": "stream",
     "text": [
      "1450958699584\n"
     ]
    }
   ],
   "source": [
    "obj = Atm() ### object value can be changed from outside so, __ used to make private variable"
   ]
  },
  {
   "cell_type": "code",
   "execution_count": 68,
   "id": "90992a00",
   "metadata": {},
   "outputs": [
    {
     "data": {
      "text/plain": [
       "1000"
      ]
     },
     "execution_count": 68,
     "metadata": {},
     "output_type": "execute_result"
    }
   ],
   "source": [
    "obj.get_balance()## in memory __balance = _class__balance"
   ]
  },
  {
   "cell_type": "code",
   "execution_count": 67,
   "id": "20d43d89",
   "metadata": {},
   "outputs": [],
   "source": [
    "obj.set_balance(1000)"
   ]
  },
  {
   "cell_type": "code",
   "execution_count": 66,
   "id": "c7339958",
   "metadata": {},
   "outputs": [
    {
     "name": "stdout",
     "output_type": "stream",
     "text": [
      "enter the pin3214\n",
      "sale chor\n"
     ]
    }
   ],
   "source": [
    "obj.withdraw()"
   ]
  },
  {
   "cell_type": "code",
   "execution_count": 63,
   "id": "6f3fee08",
   "metadata": {},
   "outputs": [
    {
     "name": "stdout",
     "output_type": "stream",
     "text": [
      "nitish male\n",
      "ankit male\n",
      "ankita female\n"
     ]
    }
   ],
   "source": [
    "# list of objects\n",
    "class Person:\n",
    "\n",
    "  def __init__(self,name,gender):\n",
    "    self.name = name\n",
    "    self.gender = gender\n",
    "\n",
    "p1 = Person('nitish','male')\n",
    "p2 = Person('ankit','male')\n",
    "p3 = Person('ankita','female')\n",
    "\n",
    "L = [p1,p2,p3]\n",
    "\n",
    "for i in L:\n",
    "  print(i.name,i.gender)"
   ]
  },
  {
   "cell_type": "code",
   "execution_count": 64,
   "id": "a11f32a2",
   "metadata": {},
   "outputs": [
    {
     "name": "stdout",
     "output_type": "stream",
     "text": [
      "male\n",
      "male\n",
      "female\n"
     ]
    }
   ],
   "source": [
    "# dict of objects\n",
    "# list of objects\n",
    "class Person:\n",
    "\n",
    "  def __init__(self,name,gender):\n",
    "    self.name = name\n",
    "    self.gender = gender\n",
    "\n",
    "p1 = Person('nitish','male')\n",
    "p2 = Person('ankit','male')\n",
    "p3 = Person('ankita','female')\n",
    "\n",
    "d = {'p1':p1,'p2':p2,'p3':p3}\n",
    "\n",
    "for i in d:\n",
    "  print(d[i].gender)"
   ]
  },
  {
   "cell_type": "code",
   "execution_count": null,
   "id": "81b74ed3",
   "metadata": {},
   "outputs": [],
   "source": [
    "## Static variable or instance variable"
   ]
  },
  {
   "cell_type": "code",
   "execution_count": 1,
   "id": "e5891357",
   "metadata": {},
   "outputs": [],
   "source": [
    "class Atm:\n",
    "\n",
    "  __counter = 1\n",
    "\n",
    "  # constructor(special function)->superpower -> \n",
    "  def __init__(self):\n",
    "    print(id(self))\n",
    "    self.pin = ''\n",
    "    self.__balance = 0\n",
    "    self.cid = Atm.__counter\n",
    "    Atm.__counter = Atm.__counter + 1\n",
    "    #self.menu()\n",
    "\n",
    "  # utility functions\n",
    "  @staticmethod\n",
    "  def get_counter():\n",
    "    return Atm.__counter\n",
    "\n",
    "\n",
    "  def get_balance(self):\n",
    "    return self.__balance\n",
    "\n",
    "  def set_balance(self,new_value):\n",
    "    if type(new_value) == int:\n",
    "      self.__balance = new_value\n",
    "    else:\n",
    "      print('beta bahot maarenge')\n",
    "\n",
    "  def __menu(self):\n",
    "    user_input = input(\"\"\"\n",
    "    Hi how can I help you?\n",
    "    1. Press 1 to create pin\n",
    "    2. Press 2 to change pin\n",
    "    3. Press 3 to check balance\n",
    "    4. Press 4 to withdraw\n",
    "    5. Anything else to exit\n",
    "    \"\"\")\n",
    "\n",
    "    if user_input == '1':\n",
    "      self.create_pin()\n",
    "    elif user_input == '2':\n",
    "      self.change_pin()\n",
    "    elif user_input == '3':\n",
    "      self.check_balance()\n",
    "    elif user_input == '4':\n",
    "      self.withdraw()\n",
    "    else:\n",
    "      exit()\n",
    "\n",
    "  def create_pin(self):\n",
    "    user_pin = input('enter your pin')\n",
    "    self.pin = user_pin\n",
    "\n",
    "    user_balance = int(input('enter balance'))\n",
    "    self.__balance = user_balance\n",
    "\n",
    "    print('pin created successfully')\n",
    "\n",
    "  def change_pin(self):\n",
    "    old_pin = input('enter old pin')\n",
    "\n",
    "    if old_pin == self.pin:\n",
    "      # let him change the pin\n",
    "      new_pin = input('enter new pin')\n",
    "      self.pin = new_pin\n",
    "      print('pin change successful')\n",
    "    else:\n",
    "      print('nai karne de sakta re baba')\n",
    "\n",
    "  def check_balance(self):\n",
    "    user_pin = input('enter your pin')\n",
    "    if user_pin == self.pin:\n",
    "      print('your balance is ',self.__balance)\n",
    "    else:\n",
    "      print('chal nikal yahan se')\n",
    "\n",
    "  def withdraw(self):\n",
    "    user_pin = input('enter the pin')\n",
    "    if user_pin == self.pin:\n",
    "      # allow to withdraw\n",
    "      amount = int(input('enter the amount'))\n",
    "      if amount <= self.__balance:\n",
    "        self.__balance = self.__balance - amount\n",
    "        print('withdrawl successful.balance is',self.__balance)\n",
    "      else:\n",
    "        print('abe garib')\n",
    "    else:\n",
    "      print('sale chor')"
   ]
  },
  {
   "cell_type": "code",
   "execution_count": 2,
   "id": "d5c0dfa1",
   "metadata": {},
   "outputs": [
    {
     "name": "stdout",
     "output_type": "stream",
     "text": [
      "1971263813952\n"
     ]
    }
   ],
   "source": [
    "obj = Atm()"
   ]
  },
  {
   "cell_type": "code",
   "execution_count": 3,
   "id": "6bcc7ad2",
   "metadata": {},
   "outputs": [
    {
     "name": "stdout",
     "output_type": "stream",
     "text": [
      "enter your pin1234\n",
      "enter balance1000\n",
      "pin created successfully\n"
     ]
    }
   ],
   "source": [
    "obj.create_pin()"
   ]
  },
  {
   "cell_type": "code",
   "execution_count": 4,
   "id": "11389a1e",
   "metadata": {},
   "outputs": [
    {
     "name": "stdout",
     "output_type": "stream",
     "text": [
      "1971267043488\n"
     ]
    }
   ],
   "source": [
    "obj1 =Atm()"
   ]
  },
  {
   "cell_type": "code",
   "execution_count": 5,
   "id": "01d05f25",
   "metadata": {},
   "outputs": [
    {
     "name": "stdout",
     "output_type": "stream",
     "text": [
      "enter your pin1234\n",
      "enter balance5000\n",
      "pin created successfully\n"
     ]
    }
   ],
   "source": [
    "obj1.create_pin()"
   ]
  },
  {
   "cell_type": "code",
   "execution_count": 6,
   "id": "278e1410",
   "metadata": {},
   "outputs": [
    {
     "name": "stdout",
     "output_type": "stream",
     "text": [
      "enter your pin1234\n",
      "your balance is  1000\n"
     ]
    }
   ],
   "source": [
    "obj.check_balance()"
   ]
  },
  {
   "cell_type": "code",
   "execution_count": 7,
   "id": "bd134835",
   "metadata": {},
   "outputs": [
    {
     "name": "stdout",
     "output_type": "stream",
     "text": [
      "enter your pin1234\n",
      "your balance is  5000\n"
     ]
    }
   ],
   "source": [
    "obj1.check_balance()"
   ]
  },
  {
   "cell_type": "code",
   "execution_count": null,
   "id": "6a776712",
   "metadata": {},
   "outputs": [],
   "source": [
    "## Class relationship\n",
    "# Agregation\n",
    "# Inheritence"
   ]
  },
  {
   "cell_type": "code",
   "execution_count": null,
   "id": "e310770b",
   "metadata": {},
   "outputs": [],
   "source": [
    "# Agregation i.e. one class owns the other relation"
   ]
  },
  {
   "cell_type": "code",
   "execution_count": 7,
   "id": "261c727b",
   "metadata": {},
   "outputs": [
    {
     "name": "stdout",
     "output_type": "stream",
     "text": [
      "Gurgoa 123254 Haryana\n",
      "Mumbhai 110132 Maharastra\n"
     ]
    }
   ],
   "source": [
    "# list of objects\n",
    "class Customer:\n",
    "\n",
    " def __init__(self,name,gender,address):\n",
    "    self.name = name\n",
    "    self.gender = gender\n",
    "    self.address = address\n",
    "    \n",
    " def print_address(self):\n",
    "    print(self.address.city, self.address.pin, self.address.state) # Agregation\n",
    "    \n",
    " def edit_profile(self,new_name,new_city,new_pin,new_state):\n",
    "    self.name=new_name\n",
    "    self.address.edit_address(new_city,new_pin,new_state)\n",
    "\n",
    "    \n",
    "class Address:\n",
    "\n",
    " def __init__(self,city,pin,state):\n",
    "    self.city = city\n",
    "    self.pin = pin\n",
    "    self.state = state \n",
    "    \n",
    "    \n",
    " def edit_address(self,new_city,new_pin,new_state):\n",
    "    self.city=new_city\n",
    "    self.pin=new_pin\n",
    "    self.state=new_state\n",
    "    \n",
    "add1 = Address('Gurgoa', '123254', 'Haryana')    \n",
    "    \n",
    "cust = Customer('Nitish','Male', add1)  \n",
    "cust.print_address()\n",
    "\n",
    "cust.edit_profile('Ankit','Mumbhai', '110132','Maharastra')\n",
    "cust.print_address()"
   ]
  },
  {
   "cell_type": "code",
   "execution_count": 1,
   "id": "3e1c99f9",
   "metadata": {
    "ExecuteTime": {
     "end_time": "2022-11-28T06:41:03.870088Z",
     "start_time": "2022-11-28T06:41:03.845067Z"
    }
   },
   "outputs": [],
   "source": [
    "### Inheritence is character transfer by parent to offspring\n",
    "# Its useful as re-usability for coding"
   ]
  },
  {
   "cell_type": "code",
   "execution_count": 19,
   "id": "6c47d6d9",
   "metadata": {
    "ExecuteTime": {
     "end_time": "2022-11-28T07:01:27.129858Z",
     "start_time": "2022-11-28T07:01:27.103780Z"
    }
   },
   "outputs": [],
   "source": [
    "## what character will inherinate\n",
    "# constructor\n",
    "# non private attributes\n",
    "# non private methods"
   ]
  },
  {
   "cell_type": "code",
   "execution_count": 16,
   "id": "cf5462d2",
   "metadata": {
    "ExecuteTime": {
     "end_time": "2022-11-28T06:58:19.323553Z",
     "start_time": "2022-11-28T06:58:19.314685Z"
    }
   },
   "outputs": [],
   "source": [
    "#### inheritence\n",
    "class User:\n",
    "   #parent class\n",
    "    def __init__(self):\n",
    "        self.name =\"nitish\"\n",
    "        self.gender =\"male\"\n",
    "        \n",
    "    def login(self):\n",
    "        print(\"login\")\n",
    "    \n",
    "class Student(User):\n",
    "    #child class\n",
    "    # def __init__(self):\n",
    "     #   self.rollno=21\n",
    "        \n",
    "    def enroll(self):\n",
    "        print(\"Enrolled into the course\")\n",
    "        \n",
    "u = User()\n",
    "s = Student()"
   ]
  },
  {
   "cell_type": "code",
   "execution_count": 18,
   "id": "7c3450a3",
   "metadata": {
    "ExecuteTime": {
     "end_time": "2022-11-28T06:58:29.264829Z",
     "start_time": "2022-11-28T06:58:29.244641Z"
    }
   },
   "outputs": [
    {
     "data": {
      "text/plain": [
       "('male', 'nitish')"
      ]
     },
     "execution_count": 18,
     "metadata": {},
     "output_type": "execute_result"
    }
   ],
   "source": [
    "s.gender, s.name,"
   ]
  },
  {
   "cell_type": "code",
   "execution_count": 24,
   "id": "7d71fc4d",
   "metadata": {
    "ExecuteTime": {
     "end_time": "2022-11-28T07:08:13.108441Z",
     "start_time": "2022-11-28T07:08:13.092442Z"
    }
   },
   "outputs": [
    {
     "name": "stdout",
     "output_type": "stream",
     "text": [
      "Enter the Parent Class\n"
     ]
    }
   ],
   "source": [
    "### Constructor\n",
    "class phone:\n",
    "    def __init__(self, price, brand, camera):\n",
    "         print(\"Enter the Parent Class\")\n",
    "         self.price= price\n",
    "         self.brand= brand\n",
    "         self.camera= camera\n",
    "        \n",
    "    def buy(self):\n",
    "        print(\"Buy phone\")\n",
    "class smartphone(phone):  # If child class is not thier it will cxall a parents constructor\n",
    "    pass\n",
    "\n",
    "s=smartphone(\"20000\", \"Iphone\", \"30\")"
   ]
  },
  {
   "cell_type": "code",
   "execution_count": 29,
   "id": "3fa57a54",
   "metadata": {
    "ExecuteTime": {
     "end_time": "2022-11-28T07:10:11.786660Z",
     "start_time": "2022-11-28T07:10:11.766898Z"
    }
   },
   "outputs": [
    {
     "data": {
      "text/plain": [
       "'Iphone'"
      ]
     },
     "execution_count": 29,
     "metadata": {},
     "output_type": "execute_result"
    }
   ],
   "source": [
    "s.brand"
   ]
  },
  {
   "cell_type": "code",
   "execution_count": 30,
   "id": "81815053",
   "metadata": {
    "ExecuteTime": {
     "end_time": "2022-11-28T07:11:16.651381Z",
     "start_time": "2022-11-28T07:11:16.624266Z"
    }
   },
   "outputs": [
    {
     "name": "stdout",
     "output_type": "stream",
     "text": [
      "Buy phone\n"
     ]
    }
   ],
   "source": [
    "s.buy() # if child has constructor it will not call any constructor in parents"
   ]
  },
  {
   "cell_type": "code",
   "execution_count": 32,
   "id": "0fdddf61",
   "metadata": {
    "ExecuteTime": {
     "end_time": "2022-11-28T07:16:00.386693Z",
     "start_time": "2022-11-28T07:16:00.366960Z"
    }
   },
   "outputs": [],
   "source": [
    "# child class cannot excess private members in parents class\n",
    "# get._attribute to excess private variable"
   ]
  },
  {
   "cell_type": "code",
   "execution_count": 33,
   "id": "63f6c9db",
   "metadata": {
    "ExecuteTime": {
     "end_time": "2022-11-28T07:18:11.157324Z",
     "start_time": "2022-11-28T07:18:11.076362Z"
    }
   },
   "outputs": [
    {
     "ename": "AttributeError",
     "evalue": "'Child' object has no attribute '_Parent__num'",
     "output_type": "error",
     "traceback": [
      "\u001b[1;31m---------------------------------------------------------------------------\u001b[0m",
      "\u001b[1;31mAttributeError\u001b[0m                            Traceback (most recent call last)",
      "Cell \u001b[1;32mIn [33], line 18\u001b[0m\n\u001b[0;32m     15\u001b[0m         \u001b[38;5;28;01mreturn\u001b[39;00m \u001b[38;5;28mself\u001b[39m\u001b[38;5;241m.\u001b[39m__val\n\u001b[0;32m     17\u001b[0m son\u001b[38;5;241m=\u001b[39mChild(\u001b[38;5;241m100\u001b[39m,\u001b[38;5;241m10\u001b[39m)\n\u001b[1;32m---> 18\u001b[0m \u001b[38;5;28mprint\u001b[39m(\u001b[38;5;124m\"\u001b[39m\u001b[38;5;124mParent: Num:\u001b[39m\u001b[38;5;124m\"\u001b[39m,\u001b[43mson\u001b[49m\u001b[38;5;241;43m.\u001b[39;49m\u001b[43mget_num\u001b[49m\u001b[43m(\u001b[49m\u001b[43m)\u001b[49m)\n\u001b[0;32m     19\u001b[0m \u001b[38;5;28mprint\u001b[39m(\u001b[38;5;124m\"\u001b[39m\u001b[38;5;124mChild: Val:\u001b[39m\u001b[38;5;124m\"\u001b[39m,son\u001b[38;5;241m.\u001b[39mget_val())\n",
      "Cell \u001b[1;32mIn [33], line 7\u001b[0m, in \u001b[0;36mParent.get_num\u001b[1;34m(self)\u001b[0m\n\u001b[0;32m      6\u001b[0m \u001b[38;5;28;01mdef\u001b[39;00m \u001b[38;5;21mget_num\u001b[39m(\u001b[38;5;28mself\u001b[39m):\n\u001b[1;32m----> 7\u001b[0m     \u001b[38;5;28;01mreturn\u001b[39;00m \u001b[38;5;28;43mself\u001b[39;49m\u001b[38;5;241;43m.\u001b[39;49m\u001b[43m__num\u001b[49m\n",
      "\u001b[1;31mAttributeError\u001b[0m: 'Child' object has no attribute '_Parent__num'"
     ]
    }
   ],
   "source": [
    "class Parent:\n",
    "\n",
    "    def __init__(self,num):\n",
    "        self.__num=num\n",
    "\n",
    "    def get_num(self):\n",
    "        return self.__num\n",
    "\n",
    "class Child(Parent):\n",
    "\n",
    "    def __init__(self,val,num):\n",
    "        self.__val=val\n",
    "\n",
    "    def get_val(self):\n",
    "        return self.__val\n",
    "        \n",
    "son=Child(100,10)\n",
    "print(\"Parent: Num:\",son.get_num())\n",
    "print(\"Child: Val:\",son.get_val())"
   ]
  },
  {
   "cell_type": "code",
   "execution_count": 34,
   "id": "7e0751d4",
   "metadata": {
    "ExecuteTime": {
     "end_time": "2022-11-28T07:18:57.946436Z",
     "start_time": "2022-11-28T07:18:57.930436Z"
    }
   },
   "outputs": [
    {
     "name": "stdout",
     "output_type": "stream",
     "text": [
      "class A : 100\n"
     ]
    }
   ],
   "source": [
    "class A:\n",
    "    def __init__(self):\n",
    "        self.var1=100\n",
    "\n",
    "    def display1(self,var1):\n",
    "        print(\"class A :\", self.var1)\n",
    "class B(A):\n",
    "  \n",
    "    def display2(self,var1):\n",
    "        print(\"class B :\", self.var1)\n",
    "\n",
    "obj=B()\n",
    "obj.display1(200)  #object overiding"
   ]
  },
  {
   "cell_type": "code",
   "execution_count": 35,
   "id": "ccd1fb97",
   "metadata": {
    "ExecuteTime": {
     "end_time": "2022-11-28T07:19:19.887219Z",
     "start_time": "2022-11-28T07:19:19.867178Z"
    }
   },
   "outputs": [
    {
     "name": "stdout",
     "output_type": "stream",
     "text": [
      "Inside phone constructor\n",
      "Buying a smartphone\n"
     ]
    }
   ],
   "source": [
    "# Method Overriding\n",
    "class Phone:\n",
    "    def __init__(self, price, brand, camera):\n",
    "        print (\"Inside phone constructor\")\n",
    "        self.__price = price\n",
    "        self.brand = brand\n",
    "        self.camera = camera\n",
    "\n",
    "    def buy(self):\n",
    "        print (\"Buying a phone\")\n",
    "\n",
    "class SmartPhone(Phone):\n",
    "    def buy(self):\n",
    "        print (\"Buying a smartphone\")\n",
    "\n",
    "s=SmartPhone(20000, \"Apple\", 13)\n",
    "\n",
    "s.buy()  ### buy is both parent and child class method overloading"
   ]
  },
  {
   "cell_type": "code",
   "execution_count": null,
   "id": "2be93d84",
   "metadata": {},
   "outputs": [],
   "source": [
    "### super keyword"
   ]
  },
  {
   "cell_type": "code",
   "execution_count": 37,
   "id": "7ca06845",
   "metadata": {
    "ExecuteTime": {
     "end_time": "2022-11-28T07:24:51.022109Z",
     "start_time": "2022-11-28T07:24:51.004571Z"
    }
   },
   "outputs": [
    {
     "name": "stdout",
     "output_type": "stream",
     "text": [
      "Inside phone constructor\n",
      "Buying a smartphone\n",
      "Buying a phone\n"
     ]
    }
   ],
   "source": [
    "class Phone:\n",
    "    def __init__(self, price, brand, camera):\n",
    "        print (\"Inside phone constructor\")\n",
    "        self.__price = price\n",
    "        self.brand = brand\n",
    "        self.camera = camera\n",
    "\n",
    "    def buy(self):\n",
    "        print (\"Buying a phone\")\n",
    "\n",
    "class SmartPhone(Phone):\n",
    "    def buy(self):\n",
    "        print (\"Buying a smartphone\")\n",
    "        # syntax to call parent ka buy method\n",
    "        super().buy()    # keyword to call the parents method\n",
    "\n",
    "s=SmartPhone(20000, \"Apple\", 13)\n",
    "\n",
    "s.buy()"
   ]
  },
  {
   "cell_type": "code",
   "execution_count": 40,
   "id": "75cc3b97",
   "metadata": {
    "ExecuteTime": {
     "end_time": "2022-11-28T07:33:24.057019Z",
     "start_time": "2022-11-28T07:33:23.996917Z"
    }
   },
   "outputs": [
    {
     "name": "stdout",
     "output_type": "stream",
     "text": [
      "Inside phone constructor\n",
      "Buying a smartphone\n"
     ]
    },
    {
     "ename": "AttributeError",
     "evalue": "'super' object has no attribute 'brand'",
     "output_type": "error",
     "traceback": [
      "\u001b[1;31m---------------------------------------------------------------------------\u001b[0m",
      "\u001b[1;31mAttributeError\u001b[0m                            Traceback (most recent call last)",
      "Cell \u001b[1;32mIn [40], line 21\u001b[0m\n\u001b[0;32m     17\u001b[0m         \u001b[38;5;28mprint\u001b[39m(\u001b[38;5;28msuper\u001b[39m()\u001b[38;5;241m.\u001b[39mbrand)\n\u001b[0;32m     19\u001b[0m s\u001b[38;5;241m=\u001b[39mSmartPhone(\u001b[38;5;241m20000\u001b[39m, \u001b[38;5;124m\"\u001b[39m\u001b[38;5;124mApple\u001b[39m\u001b[38;5;124m\"\u001b[39m, \u001b[38;5;241m13\u001b[39m)\n\u001b[1;32m---> 21\u001b[0m \u001b[43ms\u001b[49m\u001b[38;5;241;43m.\u001b[39;49m\u001b[43mbuy\u001b[49m\u001b[43m(\u001b[49m\u001b[43m)\u001b[49m\n",
      "Cell \u001b[1;32mIn [40], line 17\u001b[0m, in \u001b[0;36mSmartPhone.buy\u001b[1;34m(self)\u001b[0m\n\u001b[0;32m     15\u001b[0m \u001b[38;5;28mprint\u001b[39m (\u001b[38;5;124m\"\u001b[39m\u001b[38;5;124mBuying a smartphone\u001b[39m\u001b[38;5;124m\"\u001b[39m)\n\u001b[0;32m     16\u001b[0m \u001b[38;5;66;03m# syntax to call parent ka buy method\u001b[39;00m\n\u001b[1;32m---> 17\u001b[0m \u001b[38;5;28mprint\u001b[39m(\u001b[38;5;28;43msuper\u001b[39;49m\u001b[43m(\u001b[49m\u001b[43m)\u001b[49m\u001b[38;5;241;43m.\u001b[39;49m\u001b[43mbrand\u001b[49m)\n",
      "\u001b[1;31mAttributeError\u001b[0m: 'super' object has no attribute 'brand'"
     ]
    }
   ],
   "source": [
    "# can super access parent ka data?\n",
    "# using super outside the class\n",
    "class Phone:\n",
    "    def __init__(self, price, brand, camera):\n",
    "        print (\"Inside phone constructor\")\n",
    "        self.__price = price\n",
    "        self.brand = brand\n",
    "        self.camera = camera\n",
    "\n",
    "    def buy(self):\n",
    "        print (\"Buying a phone\")\n",
    "\n",
    "class SmartPhone(Phone):\n",
    "    def buy(self):\n",
    "        print (\"Buying a smartphone\")\n",
    "        # syntax to call parent ka buy method\n",
    "        print(super().brand)\n",
    "\n",
    "s=SmartPhone(20000, \"Apple\", 13)\n",
    "\n",
    "s.buy()"
   ]
  },
  {
   "cell_type": "code",
   "execution_count": 41,
   "id": "57aa1daf",
   "metadata": {
    "ExecuteTime": {
     "end_time": "2022-11-28T07:34:00.177080Z",
     "start_time": "2022-11-28T07:34:00.157243Z"
    }
   },
   "outputs": [],
   "source": [
    "# super is used inside the parentclass"
   ]
  },
  {
   "cell_type": "code",
   "execution_count": 39,
   "id": "dc0fcb56",
   "metadata": {
    "ExecuteTime": {
     "end_time": "2022-11-28T07:27:22.406927Z",
     "start_time": "2022-11-28T07:27:22.387122Z"
    }
   },
   "outputs": [
    {
     "name": "stdout",
     "output_type": "stream",
     "text": [
      "Inside smartphone constructor\n",
      "Inside phone constructor\n",
      "Inside smartphone constructor\n",
      "Android\n",
      "Samsung\n"
     ]
    }
   ],
   "source": [
    "# super -> constuctor\n",
    "class Phone:\n",
    "    def __init__(self, price, brand, camera):\n",
    "        print (\"Inside phone constructor\")\n",
    "        self.__price = price\n",
    "        self.brand = brand\n",
    "        self.camera = camera\n",
    "\n",
    "class SmartPhone(Phone):\n",
    "    def __init__(self, price, brand, camera, os, ram):\n",
    "        print('Inside smartphone constructor')\n",
    "        super().__init__(price, brand, camera)\n",
    "        self.os = os\n",
    "        self.ram = ram\n",
    "        print (\"Inside smartphone constructor\")\n",
    "\n",
    "s=SmartPhone(20000, \"Samsung\", 12, \"Android\", 2)\n",
    "\n",
    "print(s.os)\n",
    "print(s.brand)"
   ]
  },
  {
   "cell_type": "markdown",
   "id": "8571fc25",
   "metadata": {},
   "source": [
    "Inheritance in summary\n",
    "A class can inherit from another class.\n",
    "\n",
    "Inheritance improves code reuse\n",
    "\n",
    "Constructor, attributes, methods get inherited to the child class\n",
    "\n",
    "The parent has no access to the child class\n",
    "\n",
    "Private properties of parent are not accessible directly in child class\n",
    "\n",
    "Child class can override the attributes or methods. This is called method overriding\n",
    "\n",
    "super() is an inbuilt function which is used to invoke the parent class methods and constructor"
   ]
  },
  {
   "cell_type": "code",
   "execution_count": 42,
   "id": "da1ec9a4",
   "metadata": {
    "ExecuteTime": {
     "end_time": "2022-11-28T07:35:04.814680Z",
     "start_time": "2022-11-28T07:35:04.790677Z"
    }
   },
   "outputs": [
    {
     "name": "stdout",
     "output_type": "stream",
     "text": [
      "100\n",
      "200\n"
     ]
    }
   ],
   "source": [
    "class Parent:\n",
    "\n",
    "    def __init__(self,num):\n",
    "      self.__num=num\n",
    "\n",
    "    def get_num(self):\n",
    "      return self.__num\n",
    "\n",
    "class Child(Parent):\n",
    "  \n",
    "    def __init__(self,num,val):\n",
    "      super().__init__(num)\n",
    "      self.__val=val\n",
    "\n",
    "    def get_val(self):\n",
    "      return self.__val\n",
    "      \n",
    "son=Child(100,200)\n",
    "print(son.get_num())\n",
    "print(son.get_val())"
   ]
  },
  {
   "cell_type": "code",
   "execution_count": 43,
   "id": "50a7f310",
   "metadata": {
    "ExecuteTime": {
     "end_time": "2022-11-28T07:35:58.155826Z",
     "start_time": "2022-11-28T07:35:58.136900Z"
    }
   },
   "outputs": [
    {
     "name": "stdout",
     "output_type": "stream",
     "text": [
      "100\n",
      "200\n"
     ]
    }
   ],
   "source": [
    "class Parent:\n",
    "    def __init__(self):\n",
    "        self.num=100\n",
    "\n",
    "class Child(Parent):\n",
    "\n",
    "    def __init__(self):\n",
    "        super().__init__()\n",
    "        self.var=200\n",
    "        \n",
    "    def show(self):\n",
    "        print(self.num)\n",
    "        print(self.var)\n",
    "\n",
    "son=Child()\n",
    "son.show()"
   ]
  },
  {
   "cell_type": "code",
   "execution_count": 44,
   "id": "bd2c5d08",
   "metadata": {
    "ExecuteTime": {
     "end_time": "2022-11-28T07:36:15.977805Z",
     "start_time": "2022-11-28T07:36:15.956938Z"
    }
   },
   "outputs": [
    {
     "name": "stdout",
     "output_type": "stream",
     "text": [
      "Child: 10\n"
     ]
    }
   ],
   "source": [
    "class Parent:\n",
    "    def __init__(self):\n",
    "        self.__num=100\n",
    "\n",
    "    def show(self):\n",
    "        print(\"Parent:\",self.__num)\n",
    "\n",
    "class Child(Parent):\n",
    "    def __init__(self):\n",
    "        super().__init__()\n",
    "        self.__var=10\n",
    "\n",
    "    def show(self):\n",
    "        print(\"Child:\",self.__var)\n",
    "\n",
    "obj=Child()\n",
    "obj.show()"
   ]
  },
  {
   "cell_type": "code",
   "execution_count": 45,
   "id": "531f8f87",
   "metadata": {
    "ExecuteTime": {
     "end_time": "2022-11-28T07:38:17.407054Z",
     "start_time": "2022-11-28T07:38:17.387042Z"
    }
   },
   "outputs": [
    {
     "name": "stdout",
     "output_type": "stream",
     "text": [
      "Child: 10\n"
     ]
    }
   ],
   "source": [
    "class Parent:\n",
    "    def __init__(self):\n",
    "        self.__num=100\n",
    "\n",
    "    def show(self):\n",
    "        print(\"Parent:\",self.__num)\n",
    "\n",
    "class Child(Parent):\n",
    "    def __init__(self):\n",
    "        super().__init__()\n",
    "        self.__var=10\n",
    "\n",
    "    def show(self):\n",
    "        print(\"Child:\",self.__var)\n",
    "\n",
    "obj=Child()\n",
    "obj.show()"
   ]
  },
  {
   "cell_type": "markdown",
   "id": "79143a3a",
   "metadata": {},
   "source": [
    "Types of Inheritance\n",
    "Single Inheritance\n",
    "Multilevel Inheritance\n",
    "Hierarchical Inheritance\n",
    "Multiple Inheritance(Diamond Problem)\n",
    "Hybrid Inheritanc"
   ]
  },
  {
   "cell_type": "code",
   "execution_count": null,
   "id": "94f0da7e",
   "metadata": {
    "ExecuteTime": {
     "start_time": "2022-11-28T07:40:21.868Z"
    }
   },
   "outputs": [],
   "source": [
    "class A:\n",
    "\n",
    "    def m1(self):\n",
    "        return 20\n",
    "\n",
    "class B(A):\n",
    "\n",
    "    def m1(self):\n",
    "        val=super().m1()+30\n",
    "        return val\n",
    "\n",
    "class C(B):\n",
    "  \n",
    "    def m1(self):\n",
    "        val=self.m1()+20\n",
    "        return val\n",
    "obj=C()\n",
    "print(obj.m1()) ## kernel died"
   ]
  },
  {
   "cell_type": "code",
   "execution_count": 2,
   "id": "afc026c0",
   "metadata": {
    "ExecuteTime": {
     "end_time": "2022-11-28T07:42:09.976949Z",
     "start_time": "2022-11-28T07:42:09.967037Z"
    }
   },
   "outputs": [],
   "source": [
    "##Polymorphism\n",
    "#Method Overriding\n",
    "#Method Overloading\n",
    "#Operator Overloading"
   ]
  },
  {
   "cell_type": "code",
   "execution_count": 1,
   "id": "2654bb06",
   "metadata": {
    "ExecuteTime": {
     "end_time": "2022-11-28T07:41:54.787421Z",
     "start_time": "2022-11-28T07:41:54.752956Z"
    }
   },
   "outputs": [
    {
     "name": "stdout",
     "output_type": "stream",
     "text": [
      "12.56\n",
      "12\n"
     ]
    }
   ],
   "source": [
    "class Shape:\n",
    "\n",
    "  def area(self,a,b=0):\n",
    "    if b == 0:\n",
    "      return 3.14*a*a\n",
    "    else:\n",
    "      return a*b\n",
    "\n",
    "s = Shape()\n",
    "\n",
    "print(s.area(2))\n",
    "print(s.area(3,4))"
   ]
  },
  {
   "cell_type": "code",
   "execution_count": 3,
   "id": "4fa575d0",
   "metadata": {
    "ExecuteTime": {
     "end_time": "2022-11-28T07:42:32.077396Z",
     "start_time": "2022-11-28T07:42:32.036858Z"
    }
   },
   "outputs": [
    {
     "data": {
      "text/plain": [
       "[1, 2, 3, 4, 5]"
      ]
     },
     "execution_count": 3,
     "metadata": {},
     "output_type": "execute_result"
    }
   ],
   "source": [
    "[1,2,3] + [4,5]"
   ]
  },
  {
   "cell_type": "code",
   "execution_count": 5,
   "id": "12d4582e",
   "metadata": {
    "ExecuteTime": {
     "end_time": "2022-11-28T07:43:11.407329Z",
     "start_time": "2022-11-28T07:43:11.396983Z"
    }
   },
   "outputs": [],
   "source": [
    "### Abstraction"
   ]
  },
  {
   "cell_type": "code",
   "execution_count": 4,
   "id": "377691f4",
   "metadata": {
    "ExecuteTime": {
     "end_time": "2022-11-28T07:42:58.717048Z",
     "start_time": "2022-11-28T07:42:58.707015Z"
    }
   },
   "outputs": [],
   "source": [
    "from abc import ABC,abstractmethod\n",
    "class BankApp(ABC):\n",
    "\n",
    "  def database(self):\n",
    "    print('connected to database')\n",
    "\n",
    "  @abstractmethod\n",
    "  def security(self):\n",
    "    pass\n",
    "\n",
    "  @abstractmethod\n",
    "  def display(self):\n",
    "    pass\n"
   ]
  },
  {
   "cell_type": "code",
   "execution_count": 6,
   "id": "abad9b31",
   "metadata": {
    "ExecuteTime": {
     "end_time": "2022-11-28T07:43:37.207445Z",
     "start_time": "2022-11-28T07:43:37.187068Z"
    }
   },
   "outputs": [],
   "source": [
    "class MobileApp(BankApp):\n",
    "\n",
    "  def mobile_login(self):\n",
    "    print('login into mobile')\n",
    "\n",
    "  def security(self):\n",
    "    print('mobile security')\n",
    "\n",
    "  def display(self):\n",
    "    print('display')"
   ]
  },
  {
   "cell_type": "code",
   "execution_count": 7,
   "id": "3ab84958",
   "metadata": {
    "ExecuteTime": {
     "end_time": "2022-11-28T07:43:47.337301Z",
     "start_time": "2022-11-28T07:43:47.327249Z"
    }
   },
   "outputs": [],
   "source": [
    "mob = MobileApp()"
   ]
  },
  {
   "cell_type": "code",
   "execution_count": 8,
   "id": "8190acb0",
   "metadata": {
    "ExecuteTime": {
     "end_time": "2022-11-28T07:44:01.850701Z",
     "start_time": "2022-11-28T07:44:01.842702Z"
    }
   },
   "outputs": [
    {
     "name": "stdout",
     "output_type": "stream",
     "text": [
      "mobile security\n"
     ]
    }
   ],
   "source": [
    "mob.security()"
   ]
  },
  {
   "cell_type": "code",
   "execution_count": 9,
   "id": "06ecdf87",
   "metadata": {
    "ExecuteTime": {
     "end_time": "2022-11-28T07:44:12.686155Z",
     "start_time": "2022-11-28T07:44:12.340463Z"
    }
   },
   "outputs": [
    {
     "ename": "TypeError",
     "evalue": "Can't instantiate abstract class BankApp with abstract methods display, security",
     "output_type": "error",
     "traceback": [
      "\u001b[1;31m---------------------------------------------------------------------------\u001b[0m",
      "\u001b[1;31mTypeError\u001b[0m                                 Traceback (most recent call last)",
      "Cell \u001b[1;32mIn [9], line 1\u001b[0m\n\u001b[1;32m----> 1\u001b[0m obj \u001b[38;5;241m=\u001b[39m \u001b[43mBankApp\u001b[49m\u001b[43m(\u001b[49m\u001b[43m)\u001b[49m\n",
      "\u001b[1;31mTypeError\u001b[0m: Can't instantiate abstract class BankApp with abstract methods display, security"
     ]
    }
   ],
   "source": [
    "obj = BankApp()"
   ]
  },
  {
   "cell_type": "code",
   "execution_count": null,
   "id": "676b09b3",
   "metadata": {},
   "outputs": [],
   "source": []
  },
  {
   "cell_type": "code",
   "execution_count": null,
   "id": "f8fd6372",
   "metadata": {},
   "outputs": [],
   "source": []
  },
  {
   "cell_type": "code",
   "execution_count": null,
   "id": "55000409",
   "metadata": {},
   "outputs": [],
   "source": []
  },
  {
   "cell_type": "code",
   "execution_count": null,
   "id": "ca9edce4",
   "metadata": {},
   "outputs": [],
   "source": []
  },
  {
   "cell_type": "code",
   "execution_count": null,
   "id": "ffeb4cc9",
   "metadata": {},
   "outputs": [],
   "source": []
  },
  {
   "cell_type": "code",
   "execution_count": null,
   "id": "259530fd",
   "metadata": {},
   "outputs": [],
   "source": []
  },
  {
   "cell_type": "code",
   "execution_count": null,
   "id": "da6b9f22",
   "metadata": {},
   "outputs": [],
   "source": []
  },
  {
   "cell_type": "code",
   "execution_count": null,
   "id": "2ce13d63",
   "metadata": {},
   "outputs": [],
   "source": []
  },
  {
   "cell_type": "code",
   "execution_count": null,
   "id": "483c88db",
   "metadata": {},
   "outputs": [],
   "source": []
  },
  {
   "cell_type": "code",
   "execution_count": null,
   "id": "72e4fb8c",
   "metadata": {},
   "outputs": [],
   "source": []
  },
  {
   "cell_type": "code",
   "execution_count": null,
   "id": "49e9e1c7",
   "metadata": {},
   "outputs": [],
   "source": []
  },
  {
   "cell_type": "code",
   "execution_count": null,
   "id": "861b0717",
   "metadata": {},
   "outputs": [],
   "source": []
  }
 ],
 "metadata": {
  "kernelspec": {
   "display_name": "Python 3 (ipykernel)",
   "language": "python",
   "name": "python3"
  },
  "language_info": {
   "codemirror_mode": {
    "name": "ipython",
    "version": 3
   },
   "file_extension": ".py",
   "mimetype": "text/x-python",
   "name": "python",
   "nbconvert_exporter": "python",
   "pygments_lexer": "ipython3",
   "version": "3.10.6"
  }
 },
 "nbformat": 4,
 "nbformat_minor": 5
}
